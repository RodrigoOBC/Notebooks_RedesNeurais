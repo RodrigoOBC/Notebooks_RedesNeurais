{
  "nbformat": 4,
  "nbformat_minor": 0,
  "metadata": {
    "kernelspec": {
      "language": "python",
      "display_name": "Python 3",
      "name": "python3"
    },
    "language_info": {
      "pygments_lexer": "ipython3",
      "nbconvert_exporter": "python",
      "version": "3.6.4",
      "file_extension": ".py",
      "codemirror_mode": {
        "name": "ipython",
        "version": 3
      },
      "name": "python",
      "mimetype": "text/x-python"
    },
    "colab": {
      "name": "flower-cnn-classification.ipynb",
      "provenance": [],
      "include_colab_link": true
    }
  },
  "cells": [
    {
      "cell_type": "markdown",
      "metadata": {
        "id": "view-in-github",
        "colab_type": "text"
      },
      "source": [
        "<a href=\"https://colab.research.google.com/github/RodrigoOBC/Notebooks_RedesNeurais/blob/main/flower_cnn_classification.ipynb\" target=\"_parent\"><img src=\"https://colab.research.google.com/assets/colab-badge.svg\" alt=\"Open In Colab\"/></a>"
      ]
    },
    {
      "cell_type": "markdown",
      "metadata": {
        "id": "EDClT8gGUqJz"
      },
      "source": [
        "# Base de dados encontrada no link \n",
        "\n",
        "### https://www.kaggle.com/alxmamaev/flowers-recognition"
      ]
    },
    {
      "cell_type": "code",
      "metadata": {
        "execution": {
          "iopub.status.busy": "2021-07-20T14:49:55.130714Z",
          "iopub.execute_input": "2021-07-20T14:49:55.131075Z",
          "iopub.status.idle": "2021-07-20T14:49:55.14463Z",
          "shell.execute_reply.started": "2021-07-20T14:49:55.131039Z",
          "shell.execute_reply": "2021-07-20T14:49:55.143544Z"
        },
        "trusted": true,
        "id": "bNGcDJPgUm1h"
      },
      "source": [
        "import matplotlib.pyplot as plt\n",
        "import numpy as np\n",
        "import pandas as pd\n",
        "import os\n",
        "import PIL\n",
        "import random\n",
        "import cv2\n",
        "from tensorflow.keras import layers, models\n",
        "import tensorflow as tf\n",
        "import pandas as pd\n",
        "from sklearn.model_selection import train_test_split\n",
        "import seaborn as sns\n",
        "import pickle\n",
        "import zipfile\n",
        "tf.__version__"
      ],
      "execution_count": null,
      "outputs": []
    },
    {
      "cell_type": "code",
      "metadata": {
        "execution": {
          "iopub.status.busy": "2021-07-20T14:49:55.146158Z",
          "iopub.execute_input": "2021-07-20T14:49:55.146513Z",
          "iopub.status.idle": "2021-07-20T14:49:55.157002Z",
          "shell.execute_reply.started": "2021-07-20T14:49:55.14648Z",
          "shell.execute_reply": "2021-07-20T14:49:55.156183Z"
        },
        "trusted": true,
        "id": "fmDXnivQUm1i"
      },
      "source": [
        "try:\n",
        "    tpu = tf.distribute.cluster_resolver.TPUClusterResolver()\n",
        "    print('Device:', tpu.master())\n",
        "    tf.config.experimental_connect_to_cluster(tpu)\n",
        "    tf.tpu.experimental.initialize_tpu_system(tpu)\n",
        "    strategy = tf.distribute.experimental.TPUStrategy(tpu)\n",
        "except:\n",
        "    strategy = tf.distribute.get_strategy()\n",
        "print('Number of replicas:', strategy.num_replicas_in_sync)"
      ],
      "execution_count": null,
      "outputs": []
    },
    {
      "cell_type": "code",
      "metadata": {
        "execution": {
          "iopub.status.busy": "2021-07-20T14:49:55.158145Z",
          "iopub.execute_input": "2021-07-20T14:49:55.158639Z",
          "iopub.status.idle": "2021-07-20T14:49:55.168227Z",
          "shell.execute_reply.started": "2021-07-20T14:49:55.158604Z",
          "shell.execute_reply": "2021-07-20T14:49:55.167158Z"
        },
        "trusted": true,
        "id": "cs2ibYwKUm1i"
      },
      "source": [
        "AUTOTUNE = tf.data.experimental.AUTOTUNE\n",
        "batch_size = 32\n",
        "IMAGE_SIZE = [128, 128]\n",
        "EPOCHS = 25"
      ],
      "execution_count": null,
      "outputs": []
    },
    {
      "cell_type": "code",
      "metadata": {
        "execution": {
          "iopub.status.busy": "2021-07-20T14:49:55.1695Z",
          "iopub.execute_input": "2021-07-20T14:49:55.169862Z",
          "iopub.status.idle": "2021-07-20T14:49:55.218276Z",
          "shell.execute_reply.started": "2021-07-20T14:49:55.169831Z",
          "shell.execute_reply": "2021-07-20T14:49:55.217162Z"
        },
        "trusted": true,
        "id": "j1jLCsbyUm1j"
      },
      "source": [
        "image = cv2.imread('/kaggle/input/flowers-recognition/flowers/rose/7461878736_a55f749faf_n.jpg')"
      ],
      "execution_count": null,
      "outputs": []
    },
    {
      "cell_type": "code",
      "metadata": {
        "execution": {
          "iopub.status.busy": "2021-07-20T14:49:55.221187Z",
          "iopub.execute_input": "2021-07-20T14:49:55.221668Z",
          "iopub.status.idle": "2021-07-20T14:49:55.226284Z",
          "shell.execute_reply.started": "2021-07-20T14:49:55.22162Z",
          "shell.execute_reply": "2021-07-20T14:49:55.225599Z"
        },
        "trusted": true,
        "id": "BPxXHIDVUm1j"
      },
      "source": [
        "print(image.shape)"
      ],
      "execution_count": null,
      "outputs": []
    },
    {
      "cell_type": "code",
      "metadata": {
        "execution": {
          "iopub.status.busy": "2021-07-20T14:49:55.227657Z",
          "iopub.execute_input": "2021-07-20T14:49:55.228153Z",
          "iopub.status.idle": "2021-07-20T14:49:55.467879Z",
          "shell.execute_reply.started": "2021-07-20T14:49:55.22812Z",
          "shell.execute_reply": "2021-07-20T14:49:55.466681Z"
        },
        "trusted": true,
        "id": "uMMwfDB5Um1k"
      },
      "source": [
        "imgplot = plt.imshow(image)\n",
        "plt.show()"
      ],
      "execution_count": null,
      "outputs": []
    },
    {
      "cell_type": "code",
      "metadata": {
        "execution": {
          "iopub.status.busy": "2021-07-20T14:49:55.46967Z",
          "iopub.execute_input": "2021-07-20T14:49:55.470116Z",
          "iopub.status.idle": "2021-07-20T14:49:55.580816Z",
          "shell.execute_reply.started": "2021-07-20T14:49:55.470071Z",
          "shell.execute_reply": "2021-07-20T14:49:55.579849Z"
        },
        "trusted": true,
        "id": "tmqvCe2oUm1k"
      },
      "source": [
        "GCS_PATH = \"/kaggle/input/flowers-recognition/flowers\"\n",
        "\n",
        "CLASS_NAMES = np.array([str(tf.strings.split(item, os.path.sep)[-1].numpy())[2:-1]\n",
        "                        for item in tf.io.gfile.glob(str(GCS_PATH + \"*/*\"))])\n",
        "CLASS_NAMES"
      ],
      "execution_count": null,
      "outputs": []
    },
    {
      "cell_type": "code",
      "metadata": {
        "execution": {
          "iopub.status.busy": "2021-07-20T14:49:55.58201Z",
          "iopub.execute_input": "2021-07-20T14:49:55.582501Z",
          "iopub.status.idle": "2021-07-20T14:49:55.846062Z",
          "shell.execute_reply.started": "2021-07-20T14:49:55.582468Z",
          "shell.execute_reply": "2021-07-20T14:49:55.84504Z"
        },
        "trusted": true,
        "id": "RGruxz6SUm1k"
      },
      "source": [
        "files_count = []\n",
        "for i,f in enumerate(CLASS_NAMES):\n",
        "    folder_path = os.path.join(GCS_PATH, f)\n",
        "    for path in os.listdir(os.path.join(folder_path)):\n",
        "        files_count.append(['{}/{}'.format(folder_path,path), f, i])\n",
        "flowers_df = pd.DataFrame(files_count, columns=['filepath', 'class_name', 'label'])\n",
        "flowers_df.head()"
      ],
      "execution_count": null,
      "outputs": []
    },
    {
      "cell_type": "code",
      "metadata": {
        "execution": {
          "iopub.status.busy": "2021-07-20T14:49:55.847321Z",
          "iopub.execute_input": "2021-07-20T14:49:55.847777Z",
          "iopub.status.idle": "2021-07-20T14:49:55.859489Z",
          "shell.execute_reply.started": "2021-07-20T14:49:55.847738Z",
          "shell.execute_reply": "2021-07-20T14:49:55.85851Z"
        },
        "trusted": true,
        "id": "0ZYsVOSAUm1l"
      },
      "source": [
        "flowers_df.class_name.value_counts()"
      ],
      "execution_count": null,
      "outputs": []
    },
    {
      "cell_type": "code",
      "metadata": {
        "execution": {
          "iopub.status.busy": "2021-07-20T14:50:00.354537Z",
          "iopub.execute_input": "2021-07-20T14:50:00.355024Z",
          "iopub.status.idle": "2021-07-20T14:50:00.372447Z",
          "shell.execute_reply.started": "2021-07-20T14:50:00.354982Z",
          "shell.execute_reply": "2021-07-20T14:50:00.370958Z"
        },
        "trusted": true,
        "id": "8U2FV2BaUm1l"
      },
      "source": [
        "quantidade_por_class = 500\n",
        "flowers_df = pd.concat([flowers_df[flowers_df['class_name']== i][:quantidade_por_class] for i in CLASS_NAMES])"
      ],
      "execution_count": null,
      "outputs": []
    },
    {
      "cell_type": "code",
      "metadata": {
        "execution": {
          "iopub.status.busy": "2021-07-20T14:50:02.032709Z",
          "iopub.execute_input": "2021-07-20T14:50:02.033168Z",
          "iopub.status.idle": "2021-07-20T14:50:02.04338Z",
          "shell.execute_reply.started": "2021-07-20T14:50:02.033117Z",
          "shell.execute_reply": "2021-07-20T14:50:02.04225Z"
        },
        "trusted": true,
        "id": "kyZHzEnvUm1l"
      },
      "source": [
        "flowers_df.class_name.value_counts()\n"
      ],
      "execution_count": null,
      "outputs": []
    },
    {
      "cell_type": "code",
      "metadata": {
        "execution": {
          "iopub.status.busy": "2021-07-20T14:50:03.356924Z",
          "iopub.execute_input": "2021-07-20T14:50:03.35735Z",
          "iopub.status.idle": "2021-07-20T14:50:03.808357Z",
          "shell.execute_reply.started": "2021-07-20T14:50:03.357316Z",
          "shell.execute_reply": "2021-07-20T14:50:03.807129Z"
        },
        "trusted": true,
        "id": "Fn1pXgPKUm1m"
      },
      "source": [
        "image = cv2.imread(flowers_df.filepath[100])\n",
        "imgplot = plt.imshow(image)\n",
        "plt.show()"
      ],
      "execution_count": null,
      "outputs": []
    },
    {
      "cell_type": "code",
      "metadata": {
        "execution": {
          "iopub.status.busy": "2021-07-20T14:50:05.061585Z",
          "iopub.execute_input": "2021-07-20T14:50:05.061982Z",
          "iopub.status.idle": "2021-07-20T14:50:05.069875Z",
          "shell.execute_reply.started": "2021-07-20T14:50:05.061939Z",
          "shell.execute_reply": "2021-07-20T14:50:05.068793Z"
        },
        "trusted": true,
        "id": "Q70xohT7Um1m"
      },
      "source": [
        "X = flowers_df['filepath']\n",
        "y = flowers_df['label']\n",
        "\n",
        "x_train, x_test, y_train, y_test = train_test_split(X, y, test_size=0.3, random_state=101)\n"
      ],
      "execution_count": null,
      "outputs": []
    },
    {
      "cell_type": "code",
      "metadata": {
        "execution": {
          "iopub.status.busy": "2021-07-20T14:50:06.707607Z",
          "iopub.execute_input": "2021-07-20T14:50:06.708097Z",
          "iopub.status.idle": "2021-07-20T14:50:06.71393Z",
          "shell.execute_reply.started": "2021-07-20T14:50:06.708066Z",
          "shell.execute_reply": "2021-07-20T14:50:06.713115Z"
        },
        "trusted": true,
        "id": "2btCWIC2Um1m"
      },
      "source": [
        "#convert to tensor\n",
        "\n",
        "\n",
        "x_train_tensor = tf.convert_to_tensor(x_train.values, dtype=tf.string)\n",
        "y_train_tensor = tf.convert_to_tensor(y_train.values)\n",
        "\n",
        "x_test_tensor = tf.convert_to_tensor(x_test.values, dtype=tf.string)\n",
        "y_test_tensor = tf.convert_to_tensor(y_test.values)"
      ],
      "execution_count": null,
      "outputs": []
    },
    {
      "cell_type": "code",
      "metadata": {
        "execution": {
          "iopub.status.busy": "2021-07-20T14:50:07.677938Z",
          "iopub.execute_input": "2021-07-20T14:50:07.678446Z",
          "iopub.status.idle": "2021-07-20T14:50:07.688805Z",
          "shell.execute_reply.started": "2021-07-20T14:50:07.678413Z",
          "shell.execute_reply": "2021-07-20T14:50:07.687528Z"
        },
        "trusted": true,
        "id": "vr8f4K8xUm1m"
      },
      "source": [
        "train_data = tf.data.Dataset.from_tensor_slices((x_train_tensor, y_train_tensor))\n",
        "test_data = tf.data.Dataset.from_tensor_slices((x_test_tensor, y_test_tensor))"
      ],
      "execution_count": null,
      "outputs": []
    },
    {
      "cell_type": "code",
      "metadata": {
        "execution": {
          "iopub.status.busy": "2021-07-20T14:50:08.827267Z",
          "iopub.execute_input": "2021-07-20T14:50:08.827669Z",
          "iopub.status.idle": "2021-07-20T14:50:08.929508Z",
          "shell.execute_reply.started": "2021-07-20T14:50:08.827636Z",
          "shell.execute_reply": "2021-07-20T14:50:08.928655Z"
        },
        "trusted": true,
        "id": "mOvSwQZtUm1n"
      },
      "source": [
        "def map_fn(path, label):\n",
        "    image = tf.image.decode_jpeg(tf.io.read_file(path))\n",
        "\n",
        "    return image, label\n",
        "\n",
        "#apply the function\n",
        "train_data_img = train_data.map(map_fn)\n",
        "test_data_img = test_data.map(map_fn)"
      ],
      "execution_count": null,
      "outputs": []
    },
    {
      "cell_type": "code",
      "metadata": {
        "execution": {
          "iopub.status.busy": "2021-07-20T14:50:10.095034Z",
          "iopub.execute_input": "2021-07-20T14:50:10.095651Z",
          "iopub.status.idle": "2021-07-20T14:50:10.68033Z",
          "shell.execute_reply.started": "2021-07-20T14:50:10.095616Z",
          "shell.execute_reply": "2021-07-20T14:50:10.679344Z"
        },
        "trusted": true,
        "id": "Ct3zZVByUm1n"
      },
      "source": [
        "fig, ax = plt.subplots(1,2, figsize = (15,5))\n",
        "for i,l in train_data_img.take(1):\n",
        "    ax[0].set_title('Imagem do dataset de treino');\n",
        "    ax[0].imshow(i);\n",
        "for i,l in test_data_img.take(1):\n",
        "    ax[1].set_title('Imagem do dataset de test');\n",
        "    ax[1].imshow(i);"
      ],
      "execution_count": null,
      "outputs": []
    },
    {
      "cell_type": "code",
      "metadata": {
        "execution": {
          "iopub.status.busy": "2021-07-20T14:50:13.888783Z",
          "iopub.execute_input": "2021-07-20T14:50:13.889175Z",
          "iopub.status.idle": "2021-07-20T14:50:13.971546Z",
          "shell.execute_reply.started": "2021-07-20T14:50:13.889141Z",
          "shell.execute_reply": "2021-07-20T14:50:13.97038Z"
        },
        "trusted": true,
        "id": "R6l2UmGsUm1n"
      },
      "source": [
        "def preprocessing(image, label):\n",
        "    \"\"\"\n",
        "    returns a image that is reshaped and normalized\n",
        "    \"\"\"\n",
        "    image = tf.cast(image, tf.float32)\n",
        "    image = image / 255.\n",
        "    image = tf.image.resize(image, IMAGE_SIZE)\n",
        "    \n",
        "    return image, label\n",
        "\n",
        "\n",
        "train_data_norm = train_data_img.map(preprocessing)\n",
        "test_data_norm = test_data_img.map(preprocessing)"
      ],
      "execution_count": null,
      "outputs": []
    },
    {
      "cell_type": "code",
      "metadata": {
        "execution": {
          "iopub.status.busy": "2021-07-20T14:50:16.156694Z",
          "iopub.execute_input": "2021-07-20T14:50:16.157235Z",
          "iopub.status.idle": "2021-07-20T14:50:16.672052Z",
          "shell.execute_reply.started": "2021-07-20T14:50:16.157188Z",
          "shell.execute_reply": "2021-07-20T14:50:16.670719Z"
        },
        "trusted": true,
        "id": "NpAC8UFVUm1n"
      },
      "source": [
        "fig, ax = plt.subplots(1,2, figsize = (15,5))\n",
        "for i,l in train_data_norm.take(1):\n",
        "    ax[0].set_title('Imagem do dataset de treino');\n",
        "    ax[0].imshow(i);\n",
        "for i,l in test_data_norm.take(1):\n",
        "    ax[1].set_title('Imagem do dataset de test');\n",
        "    ax[1].imshow(i);"
      ],
      "execution_count": null,
      "outputs": []
    },
    {
      "cell_type": "code",
      "metadata": {
        "execution": {
          "iopub.status.busy": "2021-07-20T14:50:19.87651Z",
          "iopub.execute_input": "2021-07-20T14:50:19.876972Z",
          "iopub.status.idle": "2021-07-20T14:50:20.542032Z",
          "shell.execute_reply.started": "2021-07-20T14:50:19.876932Z",
          "shell.execute_reply": "2021-07-20T14:50:20.54082Z"
        },
        "trusted": true,
        "id": "zyGdUqIpUm1o"
      },
      "source": [
        "train_batches = train_data_norm.batch(batch_size)\n",
        "test_batches = test_data_norm.batch(batch_size)\n",
        "\n",
        "for i, l in train_batches.take(1):\n",
        "    print('Train Data Shape',i.shape)\n",
        "for i, l in test_batches.take(1):\n",
        "    print('Test Data Shape',i.shape)"
      ],
      "execution_count": null,
      "outputs": []
    },
    {
      "cell_type": "code",
      "metadata": {
        "execution": {
          "iopub.status.busy": "2021-07-20T14:50:22.89364Z",
          "iopub.execute_input": "2021-07-20T14:50:22.894333Z",
          "iopub.status.idle": "2021-07-20T14:50:23.042993Z",
          "shell.execute_reply.started": "2021-07-20T14:50:22.894293Z",
          "shell.execute_reply": "2021-07-20T14:50:23.042031Z"
        },
        "trusted": true,
        "id": "xSszZCucUm1o"
      },
      "source": [
        "LeNet = models.Sequential()\n",
        "LeNet.add(layers.Conv2D(6, (5,5), activation = 'relu', input_shape = (128, 128, 3)))\n",
        "LeNet.add(layers.AveragePooling2D())\n",
        "LeNet.add(layers.Conv2D(16, (5,5), activation = 'relu'))\n",
        "LeNet.add(layers.AveragePooling2D())\n",
        "LeNet.add(layers.Flatten())\n",
        "LeNet.add(layers.Dense(255, activation='relu'))\n",
        "LeNet.add(layers.Dropout(0.2))\n",
        "LeNet.add(layers.Dense(124, activation='relu'))\n",
        "LeNet.add(layers.Dropout(0.2))\n",
        "LeNet.add(layers.Dense(84, activation='relu'))\n",
        "LeNet.add(layers.Dense(43, activation='sigmoid'))\n",
        "LeNet.summary()"
      ],
      "execution_count": null,
      "outputs": []
    },
    {
      "cell_type": "code",
      "metadata": {
        "execution": {
          "iopub.status.busy": "2021-07-20T14:50:26.729642Z",
          "iopub.execute_input": "2021-07-20T14:50:26.73003Z",
          "iopub.status.idle": "2021-07-20T14:50:26.747205Z",
          "shell.execute_reply.started": "2021-07-20T14:50:26.729997Z",
          "shell.execute_reply": "2021-07-20T14:50:26.746109Z"
        },
        "trusted": true,
        "id": "natYciLzUm1p"
      },
      "source": [
        "LeNet.compile(optimizer='Adam', loss='sparse_categorical_crossentropy', \n",
        "              metrics = ['accuracy'])"
      ],
      "execution_count": null,
      "outputs": []
    },
    {
      "cell_type": "code",
      "metadata": {
        "execution": {
          "iopub.status.busy": "2021-07-20T14:50:33.375684Z",
          "iopub.execute_input": "2021-07-20T14:50:33.376125Z",
          "iopub.status.idle": "2021-07-20T15:18:18.317427Z",
          "shell.execute_reply.started": "2021-07-20T14:50:33.37609Z",
          "shell.execute_reply": "2021-07-20T15:18:18.316463Z"
        },
        "trusted": true,
        "id": "RaHCWlCSUm1p"
      },
      "source": [
        "history = LeNet.fit(train_batches, epochs=100,batch_size = 16,validation_data=(test_batches))"
      ],
      "execution_count": null,
      "outputs": []
    },
    {
      "cell_type": "code",
      "metadata": {
        "execution": {
          "iopub.status.busy": "2021-07-20T15:31:51.051954Z",
          "iopub.execute_input": "2021-07-20T15:31:51.052389Z",
          "iopub.status.idle": "2021-07-20T15:31:51.058885Z",
          "shell.execute_reply.started": "2021-07-20T15:31:51.052354Z",
          "shell.execute_reply": "2021-07-20T15:31:51.05782Z"
        },
        "trusted": true,
        "id": "H5e9Od90Um1q"
      },
      "source": [
        "def processar_imagem(path):\n",
        "    img = tf.image.decode_image(tf.io.read_file(path))\n",
        "    img = tf.cast(img, tf.float32)\n",
        "    img = img / 255.\n",
        "    img = tf.image.resize(img, IMAGE_SIZE)\n",
        "    img_tensor = tf.convert_to_tensor(img)\n",
        "    img_tensor = tf.expand_dims(img, axis=0)\n",
        "    return img_tensor"
      ],
      "execution_count": null,
      "outputs": []
    },
    {
      "cell_type": "code",
      "metadata": {
        "execution": {
          "iopub.status.busy": "2021-07-20T15:31:52.954379Z",
          "iopub.execute_input": "2021-07-20T15:31:52.954758Z",
          "iopub.status.idle": "2021-07-20T15:31:53.151813Z",
          "shell.execute_reply.started": "2021-07-20T15:31:52.954723Z",
          "shell.execute_reply": "2021-07-20T15:31:53.150749Z"
        },
        "trusted": true,
        "id": "WSSYDxdoUm1q"
      },
      "source": [
        ""
      ],
      "execution_count": null,
      "outputs": []
    },
    {
      "cell_type": "code",
      "metadata": {
        "execution": {
          "iopub.status.busy": "2021-07-20T15:32:12.853176Z",
          "iopub.execute_input": "2021-07-20T15:32:12.853532Z",
          "iopub.status.idle": "2021-07-20T15:32:12.911508Z",
          "shell.execute_reply.started": "2021-07-20T15:32:12.853503Z",
          "shell.execute_reply": "2021-07-20T15:32:12.910079Z"
        },
        "trusted": true,
        "id": "EtUWv5TxUm1q"
      },
      "source": [
        "para_pred = processar_imagem(x_test.iloc[5])\n",
        "\n",
        "prediction = LeNet.predict_classes(para_pred)[0]\n",
        "print((\"isso é uma \" + str(CLASS_NAMES[prediction])).capitalize())\n",
        "print(f'Na verdade ela é uma {CLASS_NAMES[y_test.iloc[5]]}')"
      ],
      "execution_count": null,
      "outputs": []
    },
    {
      "cell_type": "code",
      "metadata": {
        "execution": {
          "iopub.status.busy": "2021-07-20T15:32:13.842817Z",
          "iopub.execute_input": "2021-07-20T15:32:13.84316Z",
          "iopub.status.idle": "2021-07-20T15:32:13.904961Z",
          "shell.execute_reply.started": "2021-07-20T15:32:13.843132Z",
          "shell.execute_reply": "2021-07-20T15:32:13.903702Z"
        },
        "trusted": true,
        "id": "1MB3onQqUm1q"
      },
      "source": [
        "para_pred = processar_imagem(x_test.iloc[152])\n",
        "\n",
        "prediction = LeNet.predict_classes(para_pred)[0]\n",
        "print((\"isso é uma \" + str(CLASS_NAMES[prediction])).capitalize())\n",
        "print(f'Na verdade ela é uma {CLASS_NAMES[y_test.iloc[152]]}')"
      ],
      "execution_count": null,
      "outputs": []
    },
    {
      "cell_type": "code",
      "metadata": {
        "execution": {
          "iopub.status.busy": "2021-07-20T15:32:38.724937Z",
          "iopub.execute_input": "2021-07-20T15:32:38.725365Z",
          "iopub.status.idle": "2021-07-20T15:32:38.79046Z",
          "shell.execute_reply.started": "2021-07-20T15:32:38.725332Z",
          "shell.execute_reply": "2021-07-20T15:32:38.789355Z"
        },
        "trusted": true,
        "id": "hV6N1mkyUm1r"
      },
      "source": [
        "para_pred = processar_imagem(x_test.iloc[136])\n",
        "\n",
        "prediction = LeNet.predict_classes(para_pred)[0]\n",
        "print((\"isso é uma \" + str(CLASS_NAMES[prediction])).capitalize())\n",
        "print(f'Na verdade ela é uma {CLASS_NAMES[y_test.iloc[136]]}')"
      ],
      "execution_count": null,
      "outputs": []
    },
    {
      "cell_type": "code",
      "metadata": {
        "id": "-8Jnr6nYUm1r"
      },
      "source": [
        ""
      ],
      "execution_count": null,
      "outputs": []
    }
  ]
}