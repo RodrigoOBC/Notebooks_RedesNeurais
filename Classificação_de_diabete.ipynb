{
  "nbformat": 4,
  "nbformat_minor": 0,
  "metadata": {
    "colab": {
      "name": "Classificação de diabete.ipynb",
      "provenance": [],
      "authorship_tag": "ABX9TyNqOFtWSB8IsLUoXMCWh+HY",
      "include_colab_link": true
    },
    "kernelspec": {
      "name": "python3",
      "display_name": "Python 3"
    },
    "language_info": {
      "name": "python"
    }
  },
  "cells": [
    {
      "cell_type": "markdown",
      "metadata": {
        "id": "view-in-github",
        "colab_type": "text"
      },
      "source": [
        "<a href=\"https://colab.research.google.com/github/RodrigoOBC/Notebooks_RedesNeurais/blob/main/Classifica%C3%A7%C3%A3o_de_diabete.ipynb\" target=\"_parent\"><img src=\"https://colab.research.google.com/assets/colab-badge.svg\" alt=\"Open In Colab\"/></a>"
      ]
    },
    {
      "cell_type": "code",
      "metadata": {
        "colab": {
          "base_uri": "https://localhost:8080/",
          "height": 35
        },
        "id": "TsmAjiSHrQ8y",
        "outputId": "c1979d96-dcb4-4b32-db7d-c78bc4ee0bbf"
      },
      "source": [
        "%tensorflow_version 2.x\n",
        "import tensorflow as tf\n",
        "import pandas as pd\n",
        "import numpy as np\n",
        "import seaborn as sns\n",
        "import matplotlib.pyplot as plt\n",
        "from sklearn.model_selection import train_test_split\n",
        "from sklearn.preprocessing import StandardScaler\n",
        "from sklearn.datasets import load_diabetes\n",
        "tf.__version__"
      ],
      "execution_count": 1,
      "outputs": [
        {
          "output_type": "execute_result",
          "data": {
            "application/vnd.google.colaboratory.intrinsic+json": {
              "type": "string"
            },
            "text/plain": [
              "'2.5.0'"
            ]
          },
          "metadata": {
            "tags": []
          },
          "execution_count": 1
        }
      ]
    },
    {
      "cell_type": "code",
      "metadata": {
        "id": "usss4I0StvZv"
      },
      "source": [
        "diabetes_df = pd.read_csv('/content/diabetes.csv')"
      ],
      "execution_count": 8,
      "outputs": []
    },
    {
      "cell_type": "code",
      "metadata": {
        "colab": {
          "base_uri": "https://localhost:8080/",
          "height": 204
        },
        "id": "tEasirLsvTae",
        "outputId": "f06463ce-72f6-47f8-f8a1-a7dd0390e322"
      },
      "source": [
        "diabetes_df.head()"
      ],
      "execution_count": 9,
      "outputs": [
        {
          "output_type": "execute_result",
          "data": {
            "text/html": [
              "<div>\n",
              "<style scoped>\n",
              "    .dataframe tbody tr th:only-of-type {\n",
              "        vertical-align: middle;\n",
              "    }\n",
              "\n",
              "    .dataframe tbody tr th {\n",
              "        vertical-align: top;\n",
              "    }\n",
              "\n",
              "    .dataframe thead th {\n",
              "        text-align: right;\n",
              "    }\n",
              "</style>\n",
              "<table border=\"1\" class=\"dataframe\">\n",
              "  <thead>\n",
              "    <tr style=\"text-align: right;\">\n",
              "      <th></th>\n",
              "      <th>Pregnancies</th>\n",
              "      <th>Glucose</th>\n",
              "      <th>BloodPressure</th>\n",
              "      <th>SkinThickness</th>\n",
              "      <th>Insulin</th>\n",
              "      <th>BMI</th>\n",
              "      <th>DiabetesPedigreeFunction</th>\n",
              "      <th>Age</th>\n",
              "      <th>Outcome</th>\n",
              "    </tr>\n",
              "  </thead>\n",
              "  <tbody>\n",
              "    <tr>\n",
              "      <th>0</th>\n",
              "      <td>6</td>\n",
              "      <td>148</td>\n",
              "      <td>72</td>\n",
              "      <td>35</td>\n",
              "      <td>0</td>\n",
              "      <td>33.6</td>\n",
              "      <td>0.627</td>\n",
              "      <td>50</td>\n",
              "      <td>1</td>\n",
              "    </tr>\n",
              "    <tr>\n",
              "      <th>1</th>\n",
              "      <td>1</td>\n",
              "      <td>85</td>\n",
              "      <td>66</td>\n",
              "      <td>29</td>\n",
              "      <td>0</td>\n",
              "      <td>26.6</td>\n",
              "      <td>0.351</td>\n",
              "      <td>31</td>\n",
              "      <td>0</td>\n",
              "    </tr>\n",
              "    <tr>\n",
              "      <th>2</th>\n",
              "      <td>8</td>\n",
              "      <td>183</td>\n",
              "      <td>64</td>\n",
              "      <td>0</td>\n",
              "      <td>0</td>\n",
              "      <td>23.3</td>\n",
              "      <td>0.672</td>\n",
              "      <td>32</td>\n",
              "      <td>1</td>\n",
              "    </tr>\n",
              "    <tr>\n",
              "      <th>3</th>\n",
              "      <td>1</td>\n",
              "      <td>89</td>\n",
              "      <td>66</td>\n",
              "      <td>23</td>\n",
              "      <td>94</td>\n",
              "      <td>28.1</td>\n",
              "      <td>0.167</td>\n",
              "      <td>21</td>\n",
              "      <td>0</td>\n",
              "    </tr>\n",
              "    <tr>\n",
              "      <th>4</th>\n",
              "      <td>0</td>\n",
              "      <td>137</td>\n",
              "      <td>40</td>\n",
              "      <td>35</td>\n",
              "      <td>168</td>\n",
              "      <td>43.1</td>\n",
              "      <td>2.288</td>\n",
              "      <td>33</td>\n",
              "      <td>1</td>\n",
              "    </tr>\n",
              "  </tbody>\n",
              "</table>\n",
              "</div>"
            ],
            "text/plain": [
              "   Pregnancies  Glucose  BloodPressure  ...  DiabetesPedigreeFunction  Age  Outcome\n",
              "0            6      148             72  ...                     0.627   50        1\n",
              "1            1       85             66  ...                     0.351   31        0\n",
              "2            8      183             64  ...                     0.672   32        1\n",
              "3            1       89             66  ...                     0.167   21        0\n",
              "4            0      137             40  ...                     2.288   33        1\n",
              "\n",
              "[5 rows x 9 columns]"
            ]
          },
          "metadata": {
            "tags": []
          },
          "execution_count": 9
        }
      ]
    },
    {
      "cell_type": "code",
      "metadata": {
        "id": "g6oPvcufvWoN"
      },
      "source": [
        "X = diabetes_df.iloc[:, 0:8].values"
      ],
      "execution_count": 10,
      "outputs": []
    },
    {
      "cell_type": "code",
      "metadata": {
        "id": "BJv-xsMXyKU4"
      },
      "source": [
        "Y = diabetes_df.iloc[:, 8].values"
      ],
      "execution_count": 11,
      "outputs": []
    },
    {
      "cell_type": "code",
      "metadata": {
        "colab": {
          "base_uri": "https://localhost:8080/"
        },
        "id": "PiiUlQ2JyUYq",
        "outputId": "6dfb142c-0539-4032-998a-538325de43c8"
      },
      "source": [
        "X"
      ],
      "execution_count": 12,
      "outputs": [
        {
          "output_type": "execute_result",
          "data": {
            "text/plain": [
              "array([[  6.   , 148.   ,  72.   , ...,  33.6  ,   0.627,  50.   ],\n",
              "       [  1.   ,  85.   ,  66.   , ...,  26.6  ,   0.351,  31.   ],\n",
              "       [  8.   , 183.   ,  64.   , ...,  23.3  ,   0.672,  32.   ],\n",
              "       ...,\n",
              "       [  5.   , 121.   ,  72.   , ...,  26.2  ,   0.245,  30.   ],\n",
              "       [  1.   , 126.   ,  60.   , ...,  30.1  ,   0.349,  47.   ],\n",
              "       [  1.   ,  93.   ,  70.   , ...,  30.4  ,   0.315,  23.   ]])"
            ]
          },
          "metadata": {
            "tags": []
          },
          "execution_count": 12
        }
      ]
    },
    {
      "cell_type": "code",
      "metadata": {
        "colab": {
          "base_uri": "https://localhost:8080/"
        },
        "id": "cXvVA5RfyXqY",
        "outputId": "62cd4ecf-fec1-4404-ead2-33d16414d2f5"
      },
      "source": [
        "Y"
      ],
      "execution_count": 13,
      "outputs": [
        {
          "output_type": "execute_result",
          "data": {
            "text/plain": [
              "array([1, 0, 1, 0, 1, 0, 1, 0, 1, 1, 0, 1, 0, 1, 1, 1, 1, 1, 0, 1, 0, 0,\n",
              "       1, 1, 1, 1, 1, 0, 0, 0, 0, 1, 0, 0, 0, 0, 0, 1, 1, 1, 0, 0, 0, 1,\n",
              "       0, 1, 0, 0, 1, 0, 0, 0, 0, 1, 0, 0, 1, 0, 0, 0, 0, 1, 0, 0, 1, 0,\n",
              "       1, 0, 0, 0, 1, 0, 1, 0, 0, 0, 0, 0, 1, 0, 0, 0, 0, 0, 1, 0, 0, 0,\n",
              "       1, 0, 0, 0, 0, 1, 0, 0, 0, 0, 0, 1, 1, 0, 0, 0, 0, 0, 0, 0, 0, 1,\n",
              "       1, 1, 0, 0, 1, 1, 1, 0, 0, 0, 1, 0, 0, 0, 1, 1, 0, 0, 1, 1, 1, 1,\n",
              "       1, 0, 0, 0, 0, 0, 0, 0, 0, 0, 0, 1, 0, 0, 0, 0, 0, 0, 0, 0, 1, 0,\n",
              "       1, 1, 0, 0, 0, 1, 0, 0, 0, 0, 1, 1, 0, 0, 0, 0, 1, 1, 0, 0, 0, 1,\n",
              "       0, 1, 0, 1, 0, 0, 0, 0, 0, 1, 1, 1, 1, 1, 0, 0, 1, 1, 0, 1, 0, 1,\n",
              "       1, 1, 0, 0, 0, 0, 0, 0, 1, 1, 0, 1, 0, 0, 0, 1, 1, 1, 1, 0, 1, 1,\n",
              "       1, 1, 0, 0, 0, 0, 0, 1, 0, 0, 1, 1, 0, 0, 0, 1, 1, 1, 1, 0, 0, 0,\n",
              "       1, 1, 0, 1, 0, 0, 0, 0, 0, 0, 0, 0, 1, 1, 0, 0, 0, 1, 0, 1, 0, 0,\n",
              "       1, 0, 1, 0, 0, 1, 1, 0, 0, 0, 0, 0, 1, 0, 0, 0, 1, 0, 0, 1, 1, 0,\n",
              "       0, 1, 0, 0, 0, 1, 1, 1, 0, 0, 1, 0, 1, 0, 1, 1, 0, 1, 0, 0, 1, 0,\n",
              "       1, 1, 0, 0, 1, 0, 1, 0, 0, 1, 0, 1, 0, 1, 1, 1, 0, 0, 1, 0, 1, 0,\n",
              "       0, 0, 1, 0, 0, 0, 0, 1, 1, 1, 0, 0, 0, 0, 0, 0, 0, 0, 0, 1, 0, 0,\n",
              "       0, 0, 0, 1, 1, 1, 0, 1, 1, 0, 0, 1, 0, 0, 1, 0, 0, 1, 1, 0, 0, 0,\n",
              "       0, 1, 0, 0, 1, 0, 0, 0, 0, 0, 0, 0, 1, 1, 1, 0, 0, 1, 0, 0, 1, 0,\n",
              "       0, 1, 0, 1, 1, 0, 1, 0, 1, 0, 1, 0, 1, 1, 0, 0, 0, 0, 1, 1, 0, 1,\n",
              "       0, 1, 0, 0, 0, 0, 1, 1, 0, 1, 0, 1, 0, 0, 0, 0, 0, 1, 0, 0, 0, 0,\n",
              "       1, 0, 0, 1, 1, 1, 0, 0, 1, 0, 0, 1, 0, 0, 0, 1, 0, 0, 1, 0, 0, 0,\n",
              "       0, 0, 0, 0, 0, 0, 1, 0, 0, 0, 0, 0, 0, 0, 1, 0, 0, 0, 1, 0, 0, 0,\n",
              "       1, 1, 0, 0, 0, 0, 0, 0, 0, 1, 0, 0, 0, 0, 1, 0, 0, 0, 1, 0, 0, 0,\n",
              "       1, 0, 0, 0, 1, 0, 0, 0, 0, 1, 1, 0, 0, 0, 0, 0, 0, 1, 0, 0, 0, 0,\n",
              "       0, 0, 0, 0, 0, 0, 0, 1, 0, 0, 0, 1, 1, 1, 1, 0, 0, 1, 1, 0, 0, 0,\n",
              "       0, 0, 0, 0, 0, 0, 0, 0, 0, 0, 1, 1, 0, 0, 0, 0, 0, 0, 0, 1, 0, 0,\n",
              "       0, 0, 0, 0, 0, 1, 0, 1, 1, 0, 0, 0, 1, 0, 1, 0, 1, 0, 1, 0, 1, 0,\n",
              "       0, 1, 0, 0, 1, 0, 0, 0, 0, 1, 1, 0, 1, 0, 0, 0, 0, 1, 1, 0, 1, 0,\n",
              "       0, 0, 1, 1, 0, 0, 0, 0, 0, 0, 0, 0, 0, 0, 1, 0, 0, 0, 0, 1, 0, 0,\n",
              "       1, 0, 0, 0, 1, 0, 0, 0, 1, 1, 1, 0, 0, 0, 0, 0, 0, 1, 0, 0, 0, 1,\n",
              "       0, 1, 1, 1, 1, 0, 1, 1, 0, 0, 0, 0, 0, 0, 0, 1, 1, 0, 1, 0, 0, 1,\n",
              "       0, 1, 0, 0, 0, 0, 0, 1, 0, 1, 0, 1, 0, 1, 1, 0, 0, 0, 0, 1, 1, 0,\n",
              "       0, 0, 1, 0, 1, 1, 0, 0, 1, 0, 0, 1, 1, 0, 0, 1, 0, 0, 1, 0, 0, 0,\n",
              "       0, 0, 0, 0, 1, 1, 1, 0, 0, 0, 0, 0, 0, 1, 1, 0, 0, 1, 0, 0, 1, 0,\n",
              "       1, 1, 1, 0, 0, 1, 1, 1, 0, 1, 0, 1, 0, 1, 0, 0, 0, 0, 1, 0])"
            ]
          },
          "metadata": {
            "tags": []
          },
          "execution_count": 13
        }
      ]
    },
    {
      "cell_type": "code",
      "metadata": {
        "id": "bKPFeMKSyZsw"
      },
      "source": [
        "#normaliza\n",
        "\n",
        "sc = StandardScaler()\n",
        "X = sc.fit_transform(X)"
      ],
      "execution_count": 14,
      "outputs": []
    },
    {
      "cell_type": "code",
      "metadata": {
        "colab": {
          "base_uri": "https://localhost:8080/"
        },
        "id": "w4BsG3WlzVcy",
        "outputId": "17f1c9f4-1214-426d-835b-2d8b5253afd5"
      },
      "source": [
        "X"
      ],
      "execution_count": 15,
      "outputs": [
        {
          "output_type": "execute_result",
          "data": {
            "text/plain": [
              "array([[ 0.63994726,  0.84832379,  0.14964075, ...,  0.20401277,\n",
              "         0.46849198,  1.4259954 ],\n",
              "       [-0.84488505, -1.12339636, -0.16054575, ..., -0.68442195,\n",
              "        -0.36506078, -0.19067191],\n",
              "       [ 1.23388019,  1.94372388, -0.26394125, ..., -1.10325546,\n",
              "         0.60439732, -0.10558415],\n",
              "       ...,\n",
              "       [ 0.3429808 ,  0.00330087,  0.14964075, ..., -0.73518964,\n",
              "        -0.68519336, -0.27575966],\n",
              "       [-0.84488505,  0.1597866 , -0.47073225, ..., -0.24020459,\n",
              "        -0.37110101,  1.17073215],\n",
              "       [-0.84488505, -0.8730192 ,  0.04624525, ..., -0.20212881,\n",
              "        -0.47378505, -0.87137393]])"
            ]
          },
          "metadata": {
            "tags": []
          },
          "execution_count": 15
        }
      ]
    },
    {
      "cell_type": "code",
      "metadata": {
        "id": "1lH4ODpPzXf4"
      },
      "source": [
        "X_train, X_test, y_train, y_test = train_test_split(X, Y, test_size = 0.3)"
      ],
      "execution_count": 17,
      "outputs": []
    },
    {
      "cell_type": "code",
      "metadata": {
        "colab": {
          "base_uri": "https://localhost:8080/"
        },
        "id": "3oGO9v9izeLr",
        "outputId": "851b4235-cd55-4a9f-c7f3-e5a40f42d8b2"
      },
      "source": [
        "X_train.shape"
      ],
      "execution_count": 18,
      "outputs": [
        {
          "output_type": "execute_result",
          "data": {
            "text/plain": [
              "(537, 8)"
            ]
          },
          "metadata": {
            "tags": []
          },
          "execution_count": 18
        }
      ]
    },
    {
      "cell_type": "code",
      "metadata": {
        "colab": {
          "base_uri": "https://localhost:8080/"
        },
        "id": "159K9urOzgFV",
        "outputId": "f1af3771-376b-4f6b-9fc1-43039d22dc61"
      },
      "source": [
        "X_test.shape"
      ],
      "execution_count": 19,
      "outputs": [
        {
          "output_type": "execute_result",
          "data": {
            "text/plain": [
              "(231, 8)"
            ]
          },
          "metadata": {
            "tags": []
          },
          "execution_count": 19
        }
      ]
    },
    {
      "cell_type": "code",
      "metadata": {
        "id": "xG_rP2xdzhm_"
      },
      "source": [
        "# 8 -> 400 -> 400 -> 1\n",
        "classifier = tf.keras.models.Sequential()\n",
        "classifier.add(tf.keras.layers.Dense(units=400, activation='relu', input_shape=(8, )))\n",
        "classifier.add(tf.keras.layers.Dropout(0.2))\n",
        "classifier.add(tf.keras.layers.Dense(units=400, activation='relu'))\n",
        "classifier.add(tf.keras.layers.Dropout(0.2))\n",
        "classifier.add(tf.keras.layers.Dense(units=400, activation='relu'))\n",
        "classifier.add(tf.keras.layers.Dropout(0.2))\n",
        "classifier.add(tf.keras.layers.Dense(units=200, activation='relu'))\n",
        "classifier.add(tf.keras.layers.Dropout(0.2))\n",
        "classifier.add(tf.keras.layers.Dense(units=1, activation='sigmoid'))"
      ],
      "execution_count": 44,
      "outputs": []
    },
    {
      "cell_type": "code",
      "metadata": {
        "colab": {
          "base_uri": "https://localhost:8080/"
        },
        "id": "j_12g9Zd0W0r",
        "outputId": "a010cdc8-25d6-48d4-fb9b-3e9c62fef5e9"
      },
      "source": [
        "classifier.summary()"
      ],
      "execution_count": 45,
      "outputs": [
        {
          "output_type": "stream",
          "text": [
            "Model: \"sequential_1\"\n",
            "_________________________________________________________________\n",
            "Layer (type)                 Output Shape              Param #   \n",
            "=================================================================\n",
            "dense_4 (Dense)              (None, 400)               3600      \n",
            "_________________________________________________________________\n",
            "dropout_3 (Dropout)          (None, 400)               0         \n",
            "_________________________________________________________________\n",
            "dense_5 (Dense)              (None, 400)               160400    \n",
            "_________________________________________________________________\n",
            "dropout_4 (Dropout)          (None, 400)               0         \n",
            "_________________________________________________________________\n",
            "dense_6 (Dense)              (None, 400)               160400    \n",
            "_________________________________________________________________\n",
            "dropout_5 (Dropout)          (None, 400)               0         \n",
            "_________________________________________________________________\n",
            "dense_7 (Dense)              (None, 200)               80200     \n",
            "_________________________________________________________________\n",
            "dropout_6 (Dropout)          (None, 200)               0         \n",
            "_________________________________________________________________\n",
            "dense_8 (Dense)              (None, 1)                 201       \n",
            "=================================================================\n",
            "Total params: 404,801\n",
            "Trainable params: 404,801\n",
            "Non-trainable params: 0\n",
            "_________________________________________________________________\n"
          ],
          "name": "stdout"
        }
      ]
    },
    {
      "cell_type": "code",
      "metadata": {
        "id": "KdUqxdYe0Zvf"
      },
      "source": [
        "classifier.compile(optimizer='Adam', loss='binary_crossentropy', metrics = ['accuracy',tf.keras.metrics.Recall(name='recall')])"
      ],
      "execution_count": 46,
      "outputs": []
    },
    {
      "cell_type": "code",
      "metadata": {
        "colab": {
          "base_uri": "https://localhost:8080/"
        },
        "id": "TIAAlor90gHl",
        "outputId": "2032d4fc-b779-485a-8e89-83e27df6551f"
      },
      "source": [
        "epochs_hist = classifier.fit(X_train, y_train, epochs = 250)"
      ],
      "execution_count": 47,
      "outputs": [
        {
          "output_type": "stream",
          "text": [
            "Epoch 1/250\n",
            "17/17 [==============================] - 1s 8ms/step - loss: 0.5927 - accuracy: 0.6760 - recall: 0.3191\n",
            "Epoch 2/250\n",
            "17/17 [==============================] - 0s 8ms/step - loss: 0.5008 - accuracy: 0.7765 - recall: 0.6064\n",
            "Epoch 3/250\n",
            "17/17 [==============================] - 0s 9ms/step - loss: 0.4710 - accuracy: 0.7765 - recall: 0.5957\n",
            "Epoch 4/250\n",
            "17/17 [==============================] - 0s 8ms/step - loss: 0.4539 - accuracy: 0.7784 - recall: 0.6489\n",
            "Epoch 5/250\n",
            "17/17 [==============================] - 0s 8ms/step - loss: 0.4551 - accuracy: 0.7858 - recall: 0.6330\n",
            "Epoch 6/250\n",
            "17/17 [==============================] - 0s 8ms/step - loss: 0.4410 - accuracy: 0.7803 - recall: 0.6170\n",
            "Epoch 7/250\n",
            "17/17 [==============================] - 0s 9ms/step - loss: 0.4324 - accuracy: 0.7896 - recall: 0.6277\n",
            "Epoch 8/250\n",
            "17/17 [==============================] - 0s 8ms/step - loss: 0.4543 - accuracy: 0.7970 - recall: 0.6436\n",
            "Epoch 9/250\n",
            "17/17 [==============================] - 0s 8ms/step - loss: 0.4139 - accuracy: 0.8045 - recall: 0.6968\n",
            "Epoch 10/250\n",
            "17/17 [==============================] - 0s 8ms/step - loss: 0.4012 - accuracy: 0.8082 - recall: 0.6968\n",
            "Epoch 11/250\n",
            "17/17 [==============================] - 0s 8ms/step - loss: 0.4037 - accuracy: 0.8119 - recall: 0.6330\n",
            "Epoch 12/250\n",
            "17/17 [==============================] - 0s 9ms/step - loss: 0.3748 - accuracy: 0.8231 - recall: 0.7234\n",
            "Epoch 13/250\n",
            "17/17 [==============================] - 0s 8ms/step - loss: 0.3844 - accuracy: 0.8305 - recall: 0.7340\n",
            "Epoch 14/250\n",
            "17/17 [==============================] - 0s 9ms/step - loss: 0.3796 - accuracy: 0.8343 - recall: 0.7128\n",
            "Epoch 15/250\n",
            "17/17 [==============================] - 0s 8ms/step - loss: 0.3753 - accuracy: 0.8343 - recall: 0.7340\n",
            "Epoch 16/250\n",
            "17/17 [==============================] - 0s 8ms/step - loss: 0.3574 - accuracy: 0.8324 - recall: 0.7181\n",
            "Epoch 17/250\n",
            "17/17 [==============================] - 0s 8ms/step - loss: 0.3685 - accuracy: 0.8194 - recall: 0.7074\n",
            "Epoch 18/250\n",
            "17/17 [==============================] - 0s 8ms/step - loss: 0.3614 - accuracy: 0.8417 - recall: 0.7447\n",
            "Epoch 19/250\n",
            "17/17 [==============================] - 0s 8ms/step - loss: 0.3462 - accuracy: 0.8343 - recall: 0.7660\n",
            "Epoch 20/250\n",
            "17/17 [==============================] - 0s 9ms/step - loss: 0.3184 - accuracy: 0.8585 - recall: 0.7872\n",
            "Epoch 21/250\n",
            "17/17 [==============================] - 0s 9ms/step - loss: 0.3088 - accuracy: 0.8659 - recall: 0.8085\n",
            "Epoch 22/250\n",
            "17/17 [==============================] - 0s 8ms/step - loss: 0.2834 - accuracy: 0.8566 - recall: 0.7872\n",
            "Epoch 23/250\n",
            "17/17 [==============================] - 0s 8ms/step - loss: 0.2990 - accuracy: 0.8603 - recall: 0.7872\n",
            "Epoch 24/250\n",
            "17/17 [==============================] - 0s 9ms/step - loss: 0.2855 - accuracy: 0.8659 - recall: 0.7872\n",
            "Epoch 25/250\n",
            "17/17 [==============================] - 0s 8ms/step - loss: 0.2744 - accuracy: 0.8659 - recall: 0.7926\n",
            "Epoch 26/250\n",
            "17/17 [==============================] - 0s 8ms/step - loss: 0.2870 - accuracy: 0.8715 - recall: 0.8032\n",
            "Epoch 27/250\n",
            "17/17 [==============================] - 0s 9ms/step - loss: 0.3096 - accuracy: 0.8380 - recall: 0.7394\n",
            "Epoch 28/250\n",
            "17/17 [==============================] - 0s 9ms/step - loss: 0.2762 - accuracy: 0.8510 - recall: 0.7819\n",
            "Epoch 29/250\n",
            "17/17 [==============================] - 0s 8ms/step - loss: 0.2526 - accuracy: 0.8696 - recall: 0.8138\n",
            "Epoch 30/250\n",
            "17/17 [==============================] - 0s 8ms/step - loss: 0.2574 - accuracy: 0.8808 - recall: 0.8085\n",
            "Epoch 31/250\n",
            "17/17 [==============================] - 0s 9ms/step - loss: 0.2282 - accuracy: 0.8883 - recall: 0.7926\n",
            "Epoch 32/250\n",
            "17/17 [==============================] - 0s 8ms/step - loss: 0.2207 - accuracy: 0.8994 - recall: 0.8511\n",
            "Epoch 33/250\n",
            "17/17 [==============================] - 0s 8ms/step - loss: 0.2303 - accuracy: 0.8939 - recall: 0.8351\n",
            "Epoch 34/250\n",
            "17/17 [==============================] - 0s 9ms/step - loss: 0.2319 - accuracy: 0.8864 - recall: 0.8404\n",
            "Epoch 35/250\n",
            "17/17 [==============================] - 0s 9ms/step - loss: 0.2109 - accuracy: 0.8939 - recall: 0.8191\n",
            "Epoch 36/250\n",
            "17/17 [==============================] - 0s 8ms/step - loss: 0.2336 - accuracy: 0.8901 - recall: 0.8191\n",
            "Epoch 37/250\n",
            "17/17 [==============================] - 0s 8ms/step - loss: 0.2398 - accuracy: 0.8883 - recall: 0.8351\n",
            "Epoch 38/250\n",
            "17/17 [==============================] - 0s 8ms/step - loss: 0.2129 - accuracy: 0.9088 - recall: 0.8617\n",
            "Epoch 39/250\n",
            "17/17 [==============================] - 0s 8ms/step - loss: 0.1998 - accuracy: 0.8994 - recall: 0.8404\n",
            "Epoch 40/250\n",
            "17/17 [==============================] - 0s 8ms/step - loss: 0.1976 - accuracy: 0.9162 - recall: 0.8564\n",
            "Epoch 41/250\n",
            "17/17 [==============================] - 0s 8ms/step - loss: 0.2221 - accuracy: 0.8976 - recall: 0.8138\n",
            "Epoch 42/250\n",
            "17/17 [==============================] - 0s 9ms/step - loss: 0.1782 - accuracy: 0.9088 - recall: 0.8245\n",
            "Epoch 43/250\n",
            "17/17 [==============================] - 0s 8ms/step - loss: 0.1623 - accuracy: 0.9274 - recall: 0.8670\n",
            "Epoch 44/250\n",
            "17/17 [==============================] - 0s 9ms/step - loss: 0.1595 - accuracy: 0.9236 - recall: 0.8564\n",
            "Epoch 45/250\n",
            "17/17 [==============================] - 0s 9ms/step - loss: 0.1683 - accuracy: 0.9404 - recall: 0.9202\n",
            "Epoch 46/250\n",
            "17/17 [==============================] - 0s 8ms/step - loss: 0.1810 - accuracy: 0.9292 - recall: 0.8989\n",
            "Epoch 47/250\n",
            "17/17 [==============================] - 0s 8ms/step - loss: 0.1747 - accuracy: 0.9162 - recall: 0.8777\n",
            "Epoch 48/250\n",
            "17/17 [==============================] - 0s 9ms/step - loss: 0.1629 - accuracy: 0.9367 - recall: 0.8989\n",
            "Epoch 49/250\n",
            "17/17 [==============================] - 0s 8ms/step - loss: 0.1788 - accuracy: 0.9162 - recall: 0.8617\n",
            "Epoch 50/250\n",
            "17/17 [==============================] - 0s 8ms/step - loss: 0.1575 - accuracy: 0.9199 - recall: 0.8138\n",
            "Epoch 51/250\n",
            "17/17 [==============================] - 0s 8ms/step - loss: 0.1688 - accuracy: 0.9348 - recall: 0.9149\n",
            "Epoch 52/250\n",
            "17/17 [==============================] - 0s 8ms/step - loss: 0.1424 - accuracy: 0.9367 - recall: 0.8670\n",
            "Epoch 53/250\n",
            "17/17 [==============================] - 0s 9ms/step - loss: 0.1299 - accuracy: 0.9311 - recall: 0.8936\n",
            "Epoch 54/250\n",
            "17/17 [==============================] - 0s 8ms/step - loss: 0.1557 - accuracy: 0.9385 - recall: 0.9096\n",
            "Epoch 55/250\n",
            "17/17 [==============================] - 0s 8ms/step - loss: 0.1307 - accuracy: 0.9404 - recall: 0.8936\n",
            "Epoch 56/250\n",
            "17/17 [==============================] - 0s 8ms/step - loss: 0.1520 - accuracy: 0.9330 - recall: 0.8936\n",
            "Epoch 57/250\n",
            "17/17 [==============================] - 0s 9ms/step - loss: 0.1113 - accuracy: 0.9479 - recall: 0.9096\n",
            "Epoch 58/250\n",
            "17/17 [==============================] - 0s 9ms/step - loss: 0.1058 - accuracy: 0.9553 - recall: 0.9415\n",
            "Epoch 59/250\n",
            "17/17 [==============================] - 0s 8ms/step - loss: 0.1620 - accuracy: 0.9367 - recall: 0.9255\n",
            "Epoch 60/250\n",
            "17/17 [==============================] - 0s 9ms/step - loss: 0.1447 - accuracy: 0.9367 - recall: 0.8936\n",
            "Epoch 61/250\n",
            "17/17 [==============================] - 0s 8ms/step - loss: 0.1002 - accuracy: 0.9683 - recall: 0.9681\n",
            "Epoch 62/250\n",
            "17/17 [==============================] - 0s 8ms/step - loss: 0.1159 - accuracy: 0.9628 - recall: 0.9468\n",
            "Epoch 63/250\n",
            "17/17 [==============================] - 0s 8ms/step - loss: 0.1449 - accuracy: 0.9534 - recall: 0.9096\n",
            "Epoch 64/250\n",
            "17/17 [==============================] - 0s 8ms/step - loss: 0.1571 - accuracy: 0.9404 - recall: 0.9043\n",
            "Epoch 65/250\n",
            "17/17 [==============================] - 0s 8ms/step - loss: 0.1342 - accuracy: 0.9441 - recall: 0.9149\n",
            "Epoch 66/250\n",
            "17/17 [==============================] - 0s 9ms/step - loss: 0.1371 - accuracy: 0.9404 - recall: 0.8936\n",
            "Epoch 67/250\n",
            "17/17 [==============================] - 0s 8ms/step - loss: 0.1034 - accuracy: 0.9534 - recall: 0.9309\n",
            "Epoch 68/250\n",
            "17/17 [==============================] - 0s 8ms/step - loss: 0.0899 - accuracy: 0.9590 - recall: 0.9521\n",
            "Epoch 69/250\n",
            "17/17 [==============================] - 0s 10ms/step - loss: 0.0990 - accuracy: 0.9609 - recall: 0.9521\n",
            "Epoch 70/250\n",
            "17/17 [==============================] - 0s 8ms/step - loss: 0.0834 - accuracy: 0.9665 - recall: 0.9574\n",
            "Epoch 71/250\n",
            "17/17 [==============================] - 0s 8ms/step - loss: 0.0980 - accuracy: 0.9572 - recall: 0.9202\n",
            "Epoch 72/250\n",
            "17/17 [==============================] - 0s 9ms/step - loss: 0.0882 - accuracy: 0.9628 - recall: 0.9521\n",
            "Epoch 73/250\n",
            "17/17 [==============================] - 0s 9ms/step - loss: 0.0739 - accuracy: 0.9683 - recall: 0.9628\n",
            "Epoch 74/250\n",
            "17/17 [==============================] - 0s 8ms/step - loss: 0.0653 - accuracy: 0.9777 - recall: 0.9681\n",
            "Epoch 75/250\n",
            "17/17 [==============================] - 0s 9ms/step - loss: 0.0819 - accuracy: 0.9702 - recall: 0.9468\n",
            "Epoch 76/250\n",
            "17/17 [==============================] - 0s 8ms/step - loss: 0.1072 - accuracy: 0.9646 - recall: 0.9468\n",
            "Epoch 77/250\n",
            "17/17 [==============================] - 0s 8ms/step - loss: 0.0659 - accuracy: 0.9739 - recall: 0.9681\n",
            "Epoch 78/250\n",
            "17/17 [==============================] - 0s 9ms/step - loss: 0.0706 - accuracy: 0.9702 - recall: 0.9468\n",
            "Epoch 79/250\n",
            "17/17 [==============================] - 0s 8ms/step - loss: 0.0563 - accuracy: 0.9795 - recall: 0.9787\n",
            "Epoch 80/250\n",
            "17/17 [==============================] - 0s 9ms/step - loss: 0.0417 - accuracy: 0.9888 - recall: 0.9840\n",
            "Epoch 81/250\n",
            "17/17 [==============================] - 0s 9ms/step - loss: 0.0553 - accuracy: 0.9739 - recall: 0.9468\n",
            "Epoch 82/250\n",
            "17/17 [==============================] - 0s 8ms/step - loss: 0.0769 - accuracy: 0.9683 - recall: 0.9628\n",
            "Epoch 83/250\n",
            "17/17 [==============================] - 0s 9ms/step - loss: 0.1107 - accuracy: 0.9516 - recall: 0.9309\n",
            "Epoch 84/250\n",
            "17/17 [==============================] - 0s 8ms/step - loss: 0.1348 - accuracy: 0.9572 - recall: 0.9309\n",
            "Epoch 85/250\n",
            "17/17 [==============================] - 0s 8ms/step - loss: 0.0642 - accuracy: 0.9721 - recall: 0.9521\n",
            "Epoch 86/250\n",
            "17/17 [==============================] - 0s 8ms/step - loss: 0.0579 - accuracy: 0.9814 - recall: 0.9681\n",
            "Epoch 87/250\n",
            "17/17 [==============================] - 0s 9ms/step - loss: 0.0635 - accuracy: 0.9721 - recall: 0.9628\n",
            "Epoch 88/250\n",
            "17/17 [==============================] - 0s 8ms/step - loss: 0.0601 - accuracy: 0.9758 - recall: 0.9574\n",
            "Epoch 89/250\n",
            "17/17 [==============================] - 0s 9ms/step - loss: 0.0465 - accuracy: 0.9851 - recall: 0.9840\n",
            "Epoch 90/250\n",
            "17/17 [==============================] - 0s 8ms/step - loss: 0.0510 - accuracy: 0.9721 - recall: 0.9628\n",
            "Epoch 91/250\n",
            "17/17 [==============================] - 0s 9ms/step - loss: 0.0482 - accuracy: 0.9777 - recall: 0.9628\n",
            "Epoch 92/250\n",
            "17/17 [==============================] - 0s 9ms/step - loss: 0.0908 - accuracy: 0.9683 - recall: 0.9628\n",
            "Epoch 93/250\n",
            "17/17 [==============================] - 0s 8ms/step - loss: 0.1524 - accuracy: 0.9758 - recall: 0.9574\n",
            "Epoch 94/250\n",
            "17/17 [==============================] - 0s 9ms/step - loss: 0.1544 - accuracy: 0.9479 - recall: 0.9149\n",
            "Epoch 95/250\n",
            "17/17 [==============================] - 0s 9ms/step - loss: 0.0896 - accuracy: 0.9646 - recall: 0.9521\n",
            "Epoch 96/250\n",
            "17/17 [==============================] - 0s 10ms/step - loss: 0.0598 - accuracy: 0.9739 - recall: 0.9521\n",
            "Epoch 97/250\n",
            "17/17 [==============================] - 0s 10ms/step - loss: 0.0508 - accuracy: 0.9870 - recall: 0.9894\n",
            "Epoch 98/250\n",
            "17/17 [==============================] - 0s 8ms/step - loss: 0.0546 - accuracy: 0.9777 - recall: 0.9574\n",
            "Epoch 99/250\n",
            "17/17 [==============================] - 0s 8ms/step - loss: 0.0423 - accuracy: 0.9870 - recall: 0.9894\n",
            "Epoch 100/250\n",
            "17/17 [==============================] - 0s 9ms/step - loss: 0.0489 - accuracy: 0.9758 - recall: 0.9628\n",
            "Epoch 101/250\n",
            "17/17 [==============================] - 0s 8ms/step - loss: 0.0473 - accuracy: 0.9832 - recall: 0.9840\n",
            "Epoch 102/250\n",
            "17/17 [==============================] - 0s 9ms/step - loss: 0.0510 - accuracy: 0.9777 - recall: 0.9574\n",
            "Epoch 103/250\n",
            "17/17 [==============================] - 0s 8ms/step - loss: 0.0447 - accuracy: 0.9795 - recall: 0.9681\n",
            "Epoch 104/250\n",
            "17/17 [==============================] - 0s 9ms/step - loss: 0.0513 - accuracy: 0.9795 - recall: 0.9787\n",
            "Epoch 105/250\n",
            "17/17 [==============================] - 0s 8ms/step - loss: 0.0429 - accuracy: 0.9870 - recall: 0.9787\n",
            "Epoch 106/250\n",
            "17/17 [==============================] - 0s 9ms/step - loss: 0.0461 - accuracy: 0.9832 - recall: 0.9894\n",
            "Epoch 107/250\n",
            "17/17 [==============================] - 0s 9ms/step - loss: 0.0577 - accuracy: 0.9832 - recall: 0.9628\n",
            "Epoch 108/250\n",
            "17/17 [==============================] - 0s 8ms/step - loss: 0.0579 - accuracy: 0.9795 - recall: 0.9734\n",
            "Epoch 109/250\n",
            "17/17 [==============================] - 0s 8ms/step - loss: 0.0523 - accuracy: 0.9758 - recall: 0.9734\n",
            "Epoch 110/250\n",
            "17/17 [==============================] - 0s 9ms/step - loss: 0.0413 - accuracy: 0.9814 - recall: 0.9681\n",
            "Epoch 111/250\n",
            "17/17 [==============================] - 0s 8ms/step - loss: 0.0631 - accuracy: 0.9721 - recall: 0.9787\n",
            "Epoch 112/250\n",
            "17/17 [==============================] - 0s 8ms/step - loss: 0.0721 - accuracy: 0.9795 - recall: 0.9574\n",
            "Epoch 113/250\n",
            "17/17 [==============================] - 0s 9ms/step - loss: 0.0403 - accuracy: 0.9870 - recall: 0.9840\n",
            "Epoch 114/250\n",
            "17/17 [==============================] - 0s 9ms/step - loss: 0.0637 - accuracy: 0.9851 - recall: 0.9681\n",
            "Epoch 115/250\n",
            "17/17 [==============================] - 0s 11ms/step - loss: 0.0329 - accuracy: 0.9963 - recall: 1.0000\n",
            "Epoch 116/250\n",
            "17/17 [==============================] - 0s 8ms/step - loss: 0.0396 - accuracy: 0.9832 - recall: 0.9681\n",
            "Epoch 117/250\n",
            "17/17 [==============================] - 0s 8ms/step - loss: 0.0345 - accuracy: 0.9851 - recall: 0.9840\n",
            "Epoch 118/250\n",
            "17/17 [==============================] - 0s 8ms/step - loss: 0.0347 - accuracy: 0.9870 - recall: 0.9840\n",
            "Epoch 119/250\n",
            "17/17 [==============================] - 0s 9ms/step - loss: 0.0582 - accuracy: 0.9721 - recall: 0.9574\n",
            "Epoch 120/250\n",
            "17/17 [==============================] - 0s 9ms/step - loss: 0.0431 - accuracy: 0.9870 - recall: 0.9787\n",
            "Epoch 121/250\n",
            "17/17 [==============================] - 0s 8ms/step - loss: 0.0495 - accuracy: 0.9888 - recall: 0.9947\n",
            "Epoch 122/250\n",
            "17/17 [==============================] - 0s 9ms/step - loss: 0.0481 - accuracy: 0.9832 - recall: 0.9574\n",
            "Epoch 123/250\n",
            "17/17 [==============================] - 0s 9ms/step - loss: 0.0344 - accuracy: 0.9870 - recall: 0.9894\n",
            "Epoch 124/250\n",
            "17/17 [==============================] - 0s 8ms/step - loss: 0.0457 - accuracy: 0.9870 - recall: 0.9787\n",
            "Epoch 125/250\n",
            "17/17 [==============================] - 0s 9ms/step - loss: 0.0569 - accuracy: 0.9832 - recall: 0.9734\n",
            "Epoch 126/250\n",
            "17/17 [==============================] - 0s 9ms/step - loss: 0.0834 - accuracy: 0.9739 - recall: 0.9681\n",
            "Epoch 127/250\n",
            "17/17 [==============================] - 0s 8ms/step - loss: 0.0499 - accuracy: 0.9832 - recall: 0.9681\n",
            "Epoch 128/250\n",
            "17/17 [==============================] - 0s 8ms/step - loss: 0.0319 - accuracy: 0.9926 - recall: 0.9894\n",
            "Epoch 129/250\n",
            "17/17 [==============================] - 0s 9ms/step - loss: 0.0256 - accuracy: 0.9907 - recall: 0.9894\n",
            "Epoch 130/250\n",
            "17/17 [==============================] - 0s 9ms/step - loss: 0.0200 - accuracy: 0.9907 - recall: 0.9787\n",
            "Epoch 131/250\n",
            "17/17 [==============================] - 0s 9ms/step - loss: 0.0122 - accuracy: 0.9981 - recall: 1.0000\n",
            "Epoch 132/250\n",
            "17/17 [==============================] - 0s 8ms/step - loss: 0.0217 - accuracy: 0.9907 - recall: 0.9894\n",
            "Epoch 133/250\n",
            "17/17 [==============================] - 0s 9ms/step - loss: 0.0203 - accuracy: 0.9907 - recall: 0.9840\n",
            "Epoch 134/250\n",
            "17/17 [==============================] - 0s 9ms/step - loss: 0.0331 - accuracy: 0.9888 - recall: 0.9840\n",
            "Epoch 135/250\n",
            "17/17 [==============================] - 0s 9ms/step - loss: 0.0616 - accuracy: 0.9795 - recall: 0.9734\n",
            "Epoch 136/250\n",
            "17/17 [==============================] - 0s 8ms/step - loss: 0.0538 - accuracy: 0.9814 - recall: 0.9787\n",
            "Epoch 137/250\n",
            "17/17 [==============================] - 0s 9ms/step - loss: 0.0311 - accuracy: 0.9870 - recall: 0.9894\n",
            "Epoch 138/250\n",
            "17/17 [==============================] - 0s 8ms/step - loss: 0.0369 - accuracy: 0.9926 - recall: 0.9894\n",
            "Epoch 139/250\n",
            "17/17 [==============================] - 0s 9ms/step - loss: 0.0637 - accuracy: 0.9795 - recall: 0.9628\n",
            "Epoch 140/250\n",
            "17/17 [==============================] - 0s 9ms/step - loss: 0.0483 - accuracy: 0.9832 - recall: 0.9894\n",
            "Epoch 141/250\n",
            "17/17 [==============================] - 0s 9ms/step - loss: 0.0350 - accuracy: 0.9870 - recall: 0.9681\n",
            "Epoch 142/250\n",
            "17/17 [==============================] - 0s 8ms/step - loss: 0.0291 - accuracy: 0.9907 - recall: 0.9894\n",
            "Epoch 143/250\n",
            "17/17 [==============================] - 0s 9ms/step - loss: 0.0483 - accuracy: 0.9888 - recall: 0.9840\n",
            "Epoch 144/250\n",
            "17/17 [==============================] - 0s 9ms/step - loss: 0.0468 - accuracy: 0.9888 - recall: 0.9894\n",
            "Epoch 145/250\n",
            "17/17 [==============================] - 0s 9ms/step - loss: 0.0580 - accuracy: 0.9851 - recall: 0.9840\n",
            "Epoch 146/250\n",
            "17/17 [==============================] - 0s 8ms/step - loss: 0.0491 - accuracy: 0.9795 - recall: 0.9681\n",
            "Epoch 147/250\n",
            "17/17 [==============================] - 0s 9ms/step - loss: 0.0387 - accuracy: 0.9851 - recall: 0.9840\n",
            "Epoch 148/250\n",
            "17/17 [==============================] - 0s 9ms/step - loss: 0.0542 - accuracy: 0.9832 - recall: 0.9787\n",
            "Epoch 149/250\n",
            "17/17 [==============================] - 0s 9ms/step - loss: 0.0308 - accuracy: 0.9926 - recall: 0.9947\n",
            "Epoch 150/250\n",
            "17/17 [==============================] - 0s 9ms/step - loss: 0.0251 - accuracy: 0.9907 - recall: 0.9840\n",
            "Epoch 151/250\n",
            "17/17 [==============================] - 0s 9ms/step - loss: 0.0268 - accuracy: 0.9907 - recall: 0.9787\n",
            "Epoch 152/250\n",
            "17/17 [==============================] - 0s 9ms/step - loss: 0.0194 - accuracy: 0.9944 - recall: 1.0000\n",
            "Epoch 153/250\n",
            "17/17 [==============================] - 0s 9ms/step - loss: 0.0231 - accuracy: 0.9926 - recall: 0.9787\n",
            "Epoch 154/250\n",
            "17/17 [==============================] - 0s 9ms/step - loss: 0.0131 - accuracy: 0.9963 - recall: 1.0000\n",
            "Epoch 155/250\n",
            "17/17 [==============================] - 0s 9ms/step - loss: 0.0224 - accuracy: 0.9888 - recall: 0.9894\n",
            "Epoch 156/250\n",
            "17/17 [==============================] - 0s 9ms/step - loss: 0.0188 - accuracy: 0.9944 - recall: 0.9894\n",
            "Epoch 157/250\n",
            "17/17 [==============================] - 0s 9ms/step - loss: 0.0156 - accuracy: 0.9926 - recall: 0.9947\n",
            "Epoch 158/250\n",
            "17/17 [==============================] - 0s 9ms/step - loss: 0.0125 - accuracy: 0.9963 - recall: 0.9947\n",
            "Epoch 159/250\n",
            "17/17 [==============================] - 0s 9ms/step - loss: 0.0077 - accuracy: 1.0000 - recall: 1.0000\n",
            "Epoch 160/250\n",
            "17/17 [==============================] - 0s 8ms/step - loss: 0.0201 - accuracy: 0.9944 - recall: 0.9894\n",
            "Epoch 161/250\n",
            "17/17 [==============================] - 0s 9ms/step - loss: 0.0351 - accuracy: 0.9888 - recall: 0.9840\n",
            "Epoch 162/250\n",
            "17/17 [==============================] - 0s 11ms/step - loss: 0.0585 - accuracy: 0.9814 - recall: 0.9787\n",
            "Epoch 163/250\n",
            "17/17 [==============================] - 0s 9ms/step - loss: 0.0544 - accuracy: 0.9832 - recall: 0.9681\n",
            "Epoch 164/250\n",
            "17/17 [==============================] - 0s 9ms/step - loss: 0.0207 - accuracy: 0.9944 - recall: 0.9894\n",
            "Epoch 165/250\n",
            "17/17 [==============================] - 0s 9ms/step - loss: 0.0234 - accuracy: 0.9888 - recall: 0.9947\n",
            "Epoch 166/250\n",
            "17/17 [==============================] - 0s 8ms/step - loss: 0.0368 - accuracy: 0.9832 - recall: 0.9681\n",
            "Epoch 167/250\n",
            "17/17 [==============================] - 0s 9ms/step - loss: 0.0602 - accuracy: 0.9888 - recall: 0.9894\n",
            "Epoch 168/250\n",
            "17/17 [==============================] - 0s 9ms/step - loss: 0.0543 - accuracy: 0.9888 - recall: 0.9787\n",
            "Epoch 169/250\n",
            "17/17 [==============================] - 0s 8ms/step - loss: 0.0463 - accuracy: 0.9888 - recall: 0.9840\n",
            "Epoch 170/250\n",
            "17/17 [==============================] - 0s 9ms/step - loss: 0.0330 - accuracy: 0.9870 - recall: 0.9947\n",
            "Epoch 171/250\n",
            "17/17 [==============================] - 0s 8ms/step - loss: 0.0512 - accuracy: 0.9814 - recall: 0.9574\n",
            "Epoch 172/250\n",
            "17/17 [==============================] - 0s 8ms/step - loss: 0.0301 - accuracy: 0.9870 - recall: 0.9894\n",
            "Epoch 173/250\n",
            "17/17 [==============================] - 0s 9ms/step - loss: 0.0288 - accuracy: 0.9888 - recall: 0.9787\n",
            "Epoch 174/250\n",
            "17/17 [==============================] - 0s 9ms/step - loss: 0.0201 - accuracy: 0.9926 - recall: 0.9894\n",
            "Epoch 175/250\n",
            "17/17 [==============================] - 0s 8ms/step - loss: 0.0158 - accuracy: 0.9944 - recall: 0.9947\n",
            "Epoch 176/250\n",
            "17/17 [==============================] - 0s 10ms/step - loss: 0.0349 - accuracy: 0.9926 - recall: 0.9894\n",
            "Epoch 177/250\n",
            "17/17 [==============================] - 0s 9ms/step - loss: 0.0222 - accuracy: 0.9963 - recall: 0.9947\n",
            "Epoch 178/250\n",
            "17/17 [==============================] - 0s 9ms/step - loss: 0.0060 - accuracy: 1.0000 - recall: 1.0000\n",
            "Epoch 179/250\n",
            "17/17 [==============================] - 0s 9ms/step - loss: 0.0116 - accuracy: 0.9963 - recall: 0.9947\n",
            "Epoch 180/250\n",
            "17/17 [==============================] - 0s 9ms/step - loss: 0.0082 - accuracy: 0.9981 - recall: 1.0000\n",
            "Epoch 181/250\n",
            "17/17 [==============================] - 0s 9ms/step - loss: 0.0154 - accuracy: 0.9963 - recall: 0.9894\n",
            "Epoch 182/250\n",
            "17/17 [==============================] - 0s 9ms/step - loss: 0.0223 - accuracy: 0.9888 - recall: 0.9787\n",
            "Epoch 183/250\n",
            "17/17 [==============================] - 0s 9ms/step - loss: 0.0367 - accuracy: 0.9851 - recall: 0.9947\n",
            "Epoch 184/250\n",
            "17/17 [==============================] - 0s 9ms/step - loss: 0.0575 - accuracy: 0.9832 - recall: 0.9734\n",
            "Epoch 185/250\n",
            "17/17 [==============================] - 0s 9ms/step - loss: 0.0389 - accuracy: 0.9851 - recall: 0.9734\n",
            "Epoch 186/250\n",
            "17/17 [==============================] - 0s 9ms/step - loss: 0.0246 - accuracy: 0.9907 - recall: 0.9947\n",
            "Epoch 187/250\n",
            "17/17 [==============================] - 0s 10ms/step - loss: 0.0130 - accuracy: 0.9981 - recall: 0.9947\n",
            "Epoch 188/250\n",
            "17/17 [==============================] - 0s 9ms/step - loss: 0.0133 - accuracy: 0.9981 - recall: 1.0000\n",
            "Epoch 189/250\n",
            "17/17 [==============================] - 0s 9ms/step - loss: 0.0147 - accuracy: 0.9926 - recall: 0.9840\n",
            "Epoch 190/250\n",
            "17/17 [==============================] - 0s 8ms/step - loss: 0.0149 - accuracy: 0.9944 - recall: 0.9947\n",
            "Epoch 191/250\n",
            "17/17 [==============================] - 0s 9ms/step - loss: 0.0281 - accuracy: 0.9944 - recall: 1.0000\n",
            "Epoch 192/250\n",
            "17/17 [==============================] - 0s 9ms/step - loss: 0.0484 - accuracy: 0.9832 - recall: 0.9681\n",
            "Epoch 193/250\n",
            "17/17 [==============================] - 0s 9ms/step - loss: 0.0352 - accuracy: 0.9870 - recall: 0.9947\n",
            "Epoch 194/250\n",
            "17/17 [==============================] - 0s 9ms/step - loss: 0.0324 - accuracy: 0.9926 - recall: 0.9840\n",
            "Epoch 195/250\n",
            "17/17 [==============================] - 0s 9ms/step - loss: 0.0288 - accuracy: 0.9907 - recall: 0.9947\n",
            "Epoch 196/250\n",
            "17/17 [==============================] - 0s 9ms/step - loss: 0.0399 - accuracy: 0.9888 - recall: 0.9734\n",
            "Epoch 197/250\n",
            "17/17 [==============================] - 0s 9ms/step - loss: 0.0168 - accuracy: 0.9926 - recall: 0.9947\n",
            "Epoch 198/250\n",
            "17/17 [==============================] - 0s 9ms/step - loss: 0.0315 - accuracy: 0.9870 - recall: 0.9734\n",
            "Epoch 199/250\n",
            "17/17 [==============================] - 0s 9ms/step - loss: 0.0164 - accuracy: 0.9963 - recall: 1.0000\n",
            "Epoch 200/250\n",
            "17/17 [==============================] - 0s 9ms/step - loss: 0.0222 - accuracy: 0.9981 - recall: 0.9947\n",
            "Epoch 201/250\n",
            "17/17 [==============================] - 0s 9ms/step - loss: 0.0160 - accuracy: 0.9963 - recall: 0.9947\n",
            "Epoch 202/250\n",
            "17/17 [==============================] - 0s 9ms/step - loss: 0.0099 - accuracy: 0.9944 - recall: 0.9947\n",
            "Epoch 203/250\n",
            "17/17 [==============================] - 0s 9ms/step - loss: 0.0048 - accuracy: 1.0000 - recall: 1.0000\n",
            "Epoch 204/250\n",
            "17/17 [==============================] - 0s 9ms/step - loss: 0.0075 - accuracy: 0.9963 - recall: 0.9947\n",
            "Epoch 205/250\n",
            "17/17 [==============================] - 0s 8ms/step - loss: 0.0229 - accuracy: 0.9963 - recall: 0.9947\n",
            "Epoch 206/250\n",
            "17/17 [==============================] - 0s 10ms/step - loss: 0.0284 - accuracy: 0.9944 - recall: 0.9894\n",
            "Epoch 207/250\n",
            "17/17 [==============================] - 0s 9ms/step - loss: 0.0159 - accuracy: 0.9944 - recall: 0.9947\n",
            "Epoch 208/250\n",
            "17/17 [==============================] - 0s 9ms/step - loss: 0.0083 - accuracy: 0.9963 - recall: 0.9947\n",
            "Epoch 209/250\n",
            "17/17 [==============================] - 0s 9ms/step - loss: 0.0153 - accuracy: 0.9944 - recall: 0.9947\n",
            "Epoch 210/250\n",
            "17/17 [==============================] - 0s 9ms/step - loss: 0.0217 - accuracy: 0.9963 - recall: 0.9894\n",
            "Epoch 211/250\n",
            "17/17 [==============================] - 0s 9ms/step - loss: 0.0073 - accuracy: 0.9981 - recall: 1.0000\n",
            "Epoch 212/250\n",
            "17/17 [==============================] - 0s 9ms/step - loss: 0.0071 - accuracy: 0.9981 - recall: 0.9947\n",
            "Epoch 213/250\n",
            "17/17 [==============================] - 0s 9ms/step - loss: 0.0053 - accuracy: 1.0000 - recall: 1.0000\n",
            "Epoch 214/250\n",
            "17/17 [==============================] - 0s 9ms/step - loss: 0.0030 - accuracy: 1.0000 - recall: 1.0000\n",
            "Epoch 215/250\n",
            "17/17 [==============================] - 0s 8ms/step - loss: 0.0079 - accuracy: 0.9963 - recall: 0.9894\n",
            "Epoch 216/250\n",
            "17/17 [==============================] - 0s 9ms/step - loss: 0.0060 - accuracy: 0.9981 - recall: 0.9947\n",
            "Epoch 217/250\n",
            "17/17 [==============================] - 0s 9ms/step - loss: 0.0029 - accuracy: 1.0000 - recall: 1.0000\n",
            "Epoch 218/250\n",
            "17/17 [==============================] - 0s 9ms/step - loss: 0.0046 - accuracy: 0.9981 - recall: 1.0000\n",
            "Epoch 219/250\n",
            "17/17 [==============================] - 0s 10ms/step - loss: 0.0114 - accuracy: 0.9963 - recall: 0.9947\n",
            "Epoch 220/250\n",
            "17/17 [==============================] - 0s 10ms/step - loss: 0.0221 - accuracy: 0.9944 - recall: 0.9840\n",
            "Epoch 221/250\n",
            "17/17 [==============================] - 0s 8ms/step - loss: 0.0343 - accuracy: 0.9944 - recall: 0.9894\n",
            "Epoch 222/250\n",
            "17/17 [==============================] - 0s 8ms/step - loss: 0.0131 - accuracy: 0.9944 - recall: 0.9947\n",
            "Epoch 223/250\n",
            "17/17 [==============================] - 0s 9ms/step - loss: 0.0499 - accuracy: 0.9851 - recall: 0.9787\n",
            "Epoch 224/250\n",
            "17/17 [==============================] - 0s 8ms/step - loss: 0.0193 - accuracy: 0.9907 - recall: 0.9894\n",
            "Epoch 225/250\n",
            "17/17 [==============================] - 0s 9ms/step - loss: 0.0183 - accuracy: 0.9944 - recall: 0.9894\n",
            "Epoch 226/250\n",
            "17/17 [==============================] - 0s 9ms/step - loss: 0.0431 - accuracy: 0.9926 - recall: 0.9894\n",
            "Epoch 227/250\n",
            "17/17 [==============================] - 0s 11ms/step - loss: 0.0182 - accuracy: 0.9907 - recall: 0.9894\n",
            "Epoch 228/250\n",
            "17/17 [==============================] - 0s 9ms/step - loss: 0.0198 - accuracy: 0.9926 - recall: 0.9840\n",
            "Epoch 229/250\n",
            "17/17 [==============================] - 0s 9ms/step - loss: 0.0219 - accuracy: 0.9926 - recall: 1.0000\n",
            "Epoch 230/250\n",
            "17/17 [==============================] - 0s 9ms/step - loss: 0.0184 - accuracy: 0.9926 - recall: 0.9840\n",
            "Epoch 231/250\n",
            "17/17 [==============================] - 0s 9ms/step - loss: 0.0171 - accuracy: 0.9963 - recall: 1.0000\n",
            "Epoch 232/250\n",
            "17/17 [==============================] - 0s 10ms/step - loss: 0.0527 - accuracy: 0.9832 - recall: 0.9734\n",
            "Epoch 233/250\n",
            "17/17 [==============================] - 0s 9ms/step - loss: 0.0399 - accuracy: 0.9870 - recall: 0.9840\n",
            "Epoch 234/250\n",
            "17/17 [==============================] - 0s 9ms/step - loss: 0.0439 - accuracy: 0.9814 - recall: 0.9574\n",
            "Epoch 235/250\n",
            "17/17 [==============================] - 0s 8ms/step - loss: 0.0381 - accuracy: 0.9870 - recall: 0.9894\n",
            "Epoch 236/250\n",
            "17/17 [==============================] - 0s 8ms/step - loss: 0.0404 - accuracy: 0.9851 - recall: 0.9787\n",
            "Epoch 237/250\n",
            "17/17 [==============================] - 0s 10ms/step - loss: 0.0395 - accuracy: 0.9870 - recall: 0.9734\n",
            "Epoch 238/250\n",
            "17/17 [==============================] - 0s 9ms/step - loss: 0.0181 - accuracy: 0.9944 - recall: 1.0000\n",
            "Epoch 239/250\n",
            "17/17 [==============================] - 0s 9ms/step - loss: 0.0216 - accuracy: 0.9963 - recall: 0.9894\n",
            "Epoch 240/250\n",
            "17/17 [==============================] - 0s 9ms/step - loss: 0.0111 - accuracy: 0.9944 - recall: 0.9894\n",
            "Epoch 241/250\n",
            "17/17 [==============================] - 0s 9ms/step - loss: 0.0237 - accuracy: 0.9926 - recall: 0.9840\n",
            "Epoch 242/250\n",
            "17/17 [==============================] - 0s 9ms/step - loss: 0.0169 - accuracy: 0.9944 - recall: 0.9894\n",
            "Epoch 243/250\n",
            "17/17 [==============================] - 0s 9ms/step - loss: 0.0045 - accuracy: 1.0000 - recall: 1.0000\n",
            "Epoch 244/250\n",
            "17/17 [==============================] - 0s 9ms/step - loss: 0.0029 - accuracy: 1.0000 - recall: 1.0000\n",
            "Epoch 245/250\n",
            "17/17 [==============================] - 0s 9ms/step - loss: 0.0118 - accuracy: 0.9944 - recall: 0.9894\n",
            "Epoch 246/250\n",
            "17/17 [==============================] - 0s 9ms/step - loss: 0.0121 - accuracy: 0.9944 - recall: 0.9894\n",
            "Epoch 247/250\n",
            "17/17 [==============================] - 0s 9ms/step - loss: 0.0062 - accuracy: 0.9981 - recall: 0.9947\n",
            "Epoch 248/250\n",
            "17/17 [==============================] - 0s 9ms/step - loss: 0.0156 - accuracy: 0.9944 - recall: 0.9947\n",
            "Epoch 249/250\n",
            "17/17 [==============================] - 0s 9ms/step - loss: 0.0053 - accuracy: 1.0000 - recall: 1.0000\n",
            "Epoch 250/250\n",
            "17/17 [==============================] - 0s 9ms/step - loss: 0.0086 - accuracy: 0.9981 - recall: 1.0000\n"
          ],
          "name": "stdout"
        }
      ]
    },
    {
      "cell_type": "code",
      "metadata": {
        "id": "j6EUPkRx1hlN"
      },
      "source": [
        "y_pred = classifier.predict(X_test)"
      ],
      "execution_count": 48,
      "outputs": []
    },
    {
      "cell_type": "code",
      "metadata": {
        "id": "Eu2UKkNl3Ap4"
      },
      "source": [
        "y_pred = (y_pred > 0.5)"
      ],
      "execution_count": 49,
      "outputs": []
    },
    {
      "cell_type": "code",
      "metadata": {
        "colab": {
          "base_uri": "https://localhost:8080/"
        },
        "id": "w_Mvyapc3Cz3",
        "outputId": "73b25cd2-e091-499b-d403-afae3245f26c"
      },
      "source": [
        "epochs_hist.history.keys()"
      ],
      "execution_count": 50,
      "outputs": [
        {
          "output_type": "execute_result",
          "data": {
            "text/plain": [
              "dict_keys(['loss', 'accuracy', 'recall'])"
            ]
          },
          "metadata": {
            "tags": []
          },
          "execution_count": 50
        }
      ]
    },
    {
      "cell_type": "code",
      "metadata": {
        "colab": {
          "base_uri": "https://localhost:8080/",
          "height": 295
        },
        "id": "LvUsXZFA3RyB",
        "outputId": "9678ed93-b959-4fba-a0bf-805aeecc1c00"
      },
      "source": [
        "plt.plot(epochs_hist.history['loss'])\n",
        "plt.title('Model Loss Progress During Training')\n",
        "plt.xlabel('Epoch')\n",
        "plt.ylabel('Training and Validation Loss')\n",
        "plt.legend(['Training Loss']);"
      ],
      "execution_count": 51,
      "outputs": [
        {
          "output_type": "display_data",
          "data": {
            "image/png": "[encoded data removed]",
            "text/plain": [
              "<Figure size 432x288 with 1 Axes>"
            ]
          },
          "metadata": {
            "tags": [],
            "needs_background": "light"
          }
        }
      ]
    },
    {
      "cell_type": "code",
      "metadata": {
        "colab": {
          "base_uri": "https://localhost:8080/",
          "height": 295
        },
        "id": "_PCGLhag3Tr9",
        "outputId": "1b7e66c3-691f-461e-feb6-66e9ffde8977"
      },
      "source": [
        "plt.plot(epochs_hist.history['recall'])\n",
        "plt.title('Model Recall Progress During Training')\n",
        "plt.xlabel('Epoch')\n",
        "plt.ylabel('Training and Validation Recall')\n",
        "plt.legend(['Recall']);"
      ],
      "execution_count": 52,
      "outputs": [
        {
          "output_type": "display_data",
          "data": {
            "image/png": "[encoded data removed]",
            "text/plain": [
              "<Figure size 432x288 with 1 Axes>"
            ]
          },
          "metadata": {
            "tags": [],
            "needs_background": "light"
          }
        }
      ]
    },
    {
      "cell_type": "code",
      "metadata": {
        "colab": {
          "base_uri": "https://localhost:8080/",
          "height": 265
        },
        "id": "B-UcemoQ3a4-",
        "outputId": "ca069fa1-99a4-4670-d27f-ff6e2bddf12c"
      },
      "source": [
        "#Matrix de confusão treino \n",
        "\n",
        "from sklearn.metrics import confusion_matrix\n",
        "y_train_pred = classifier.predict(X_train)\n",
        "y_train_pred = (y_train_pred > 0.5)\n",
        "cm = confusion_matrix(y_train, y_train_pred)\n",
        "sns.heatmap(cm, annot=True);"
      ],
      "execution_count": 53,
      "outputs": [
        {
          "output_type": "display_data",
          "data": {
            "image/png": "[encoded data removed]",
            "text/plain": [
              "<Figure size 432x288 with 2 Axes>"
            ]
          },
          "metadata": {
            "tags": [],
            "needs_background": "light"
          }
        }
      ]
    },
    {
      "cell_type": "code",
      "metadata": {
        "colab": {
          "base_uri": "https://localhost:8080/"
        },
        "id": "YonkCvUS3keJ",
        "outputId": "f6ef84f3-7832-4117-ce61-cba8d8039081"
      },
      "source": [
        "from sklearn.metrics import classification_report\n",
        "print(classification_report(y_train_pred, y_train))"
      ],
      "execution_count": 54,
      "outputs": [
        {
          "output_type": "stream",
          "text": [
            "              precision    recall  f1-score   support\n",
            "\n",
            "       False       1.00      1.00      1.00       349\n",
            "        True       1.00      1.00      1.00       188\n",
            "\n",
            "    accuracy                           1.00       537\n",
            "   macro avg       1.00      1.00      1.00       537\n",
            "weighted avg       1.00      1.00      1.00       537\n",
            "\n"
          ],
          "name": "stdout"
        }
      ]
    },
    {
      "cell_type": "code",
      "metadata": {
        "colab": {
          "base_uri": "https://localhost:8080/",
          "height": 265
        },
        "id": "8MEOl5kr3pVG",
        "outputId": "a43cc22c-eb1b-4556-8182-8b1d3bed52dc"
      },
      "source": [
        "cm = confusion_matrix(y_test, y_pred)\n",
        "sns.heatmap(cm, annot=True);"
      ],
      "execution_count": 55,
      "outputs": [
        {
          "output_type": "display_data",
          "data": {
            "image/png": "[encoded data removed]",
            "text/plain": [
              "<Figure size 432x288 with 2 Axes>"
            ]
          },
          "metadata": {
            "tags": [],
            "needs_background": "light"
          }
        }
      ]
    },
    {
      "cell_type": "code",
      "metadata": {
        "colab": {
          "base_uri": "https://localhost:8080/"
        },
        "id": "daLly_NI3uCL",
        "outputId": "b12209cc-560a-4215-f12b-bbc84e0a1a29"
      },
      "source": [
        "print(classification_report(y_test, y_pred))"
      ],
      "execution_count": 56,
      "outputs": [
        {
          "output_type": "stream",
          "text": [
            "              precision    recall  f1-score   support\n",
            "\n",
            "           0       0.77      0.84      0.81       151\n",
            "           1       0.64      0.54      0.59        80\n",
            "\n",
            "    accuracy                           0.74       231\n",
            "   macro avg       0.71      0.69      0.70       231\n",
            "weighted avg       0.73      0.74      0.73       231\n",
            "\n"
          ],
          "name": "stdout"
        }
      ]
    },
    {
      "cell_type": "code",
      "metadata": {
        "id": "Z8B8sqyD4uJP"
      },
      "source": [
        ""
      ],
      "execution_count": null,
      "outputs": []
    }
  ]
}