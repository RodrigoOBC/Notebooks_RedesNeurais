{
  "nbformat": 4,
  "nbformat_minor": 0,
  "metadata": {
    "colab": {
      "name": "redeneural_C_F.ipynb",
      "provenance": [],
      "collapsed_sections": [],
      "authorship_tag": "ABX9TyOCOlTWxIX+SDmvMokv76Ln",
      "include_colab_link": true
    },
    "kernelspec": {
      "name": "python3",
      "display_name": "Python 3"
    },
    "language_info": {
      "name": "python"
    }
  },
  "cells": [
    {
      "cell_type": "markdown",
      "metadata": {
        "id": "view-in-github",
        "colab_type": "text"
      },
      "source": [
        "<a href=\"https://colab.research.google.com/github/RodrigoOBC/Notebooks_RedesNeurais/blob/main/redeneural_C_F.ipynb\" target=\"_parent\"><img src=\"https://colab.research.google.com/assets/colab-badge.svg\" alt=\"Open In Colab\"/></a>"
      ]
    },
    {
      "cell_type": "code",
      "metadata": {
        "id": "tAcMXHzlZTqC",
        "colab": {
          "base_uri": "https://localhost:8080/",
          "height": 35
        },
        "outputId": "0281ad4f-541c-4dee-bb5c-c44137f150ed"
      },
      "source": [
        "%tensorflow_version 2.x\n",
        "import tensorflow as tf\n",
        "tf.__version__"
      ],
      "execution_count": 1,
      "outputs": [
        {
          "output_type": "execute_result",
          "data": {
            "application/vnd.google.colaboratory.intrinsic+json": {
              "type": "string"
            },
            "text/plain": [
              "'2.5.0'"
            ]
          },
          "metadata": {
            "tags": []
          },
          "execution_count": 1
        }
      ]
    },
    {
      "cell_type": "code",
      "metadata": {
        "id": "EfPyUtPqZn04"
      },
      "source": [
        "import pandas as pd\n",
        "import numpy as np \n",
        "import seaborn as sns\n",
        "import matplotlib.pyplot as plt"
      ],
      "execution_count": 2,
      "outputs": []
    },
    {
      "cell_type": "code",
      "metadata": {
        "id": "5McwY99ebnzM"
      },
      "source": [
        "temperatura_df = pd.read_csv('/content/Celsius-to-Fahrenheit.csv')\n",
        "temperatura_df.reset_index(drop = True, inplace = True)"
      ],
      "execution_count": 4,
      "outputs": []
    },
    {
      "cell_type": "code",
      "metadata": {
        "colab": {
          "base_uri": "https://localhost:8080/",
          "height": 204
        },
        "id": "rzwefNrceLJU",
        "outputId": "77658b0a-a671-4152-9812-7dbaa2fbba1a"
      },
      "source": [
        "temperatura_df.head()"
      ],
      "execution_count": 5,
      "outputs": [
        {
          "output_type": "execute_result",
          "data": {
            "text/html": [
              "<div>\n",
              "<style scoped>\n",
              "    .dataframe tbody tr th:only-of-type {\n",
              "        vertical-align: middle;\n",
              "    }\n",
              "\n",
              "    .dataframe tbody tr th {\n",
              "        vertical-align: top;\n",
              "    }\n",
              "\n",
              "    .dataframe thead th {\n",
              "        text-align: right;\n",
              "    }\n",
              "</style>\n",
              "<table border=\"1\" class=\"dataframe\">\n",
              "  <thead>\n",
              "    <tr style=\"text-align: right;\">\n",
              "      <th></th>\n",
              "      <th>Celsius</th>\n",
              "      <th>Fahrenheit</th>\n",
              "    </tr>\n",
              "  </thead>\n",
              "  <tbody>\n",
              "    <tr>\n",
              "      <th>0</th>\n",
              "      <td>-50</td>\n",
              "      <td>-58.0</td>\n",
              "    </tr>\n",
              "    <tr>\n",
              "      <th>1</th>\n",
              "      <td>-40</td>\n",
              "      <td>-40.0</td>\n",
              "    </tr>\n",
              "    <tr>\n",
              "      <th>2</th>\n",
              "      <td>-30</td>\n",
              "      <td>-22.0</td>\n",
              "    </tr>\n",
              "    <tr>\n",
              "      <th>3</th>\n",
              "      <td>-20</td>\n",
              "      <td>-4.0</td>\n",
              "    </tr>\n",
              "    <tr>\n",
              "      <th>4</th>\n",
              "      <td>-10</td>\n",
              "      <td>14.0</td>\n",
              "    </tr>\n",
              "  </tbody>\n",
              "</table>\n",
              "</div>"
            ],
            "text/plain": [
              "   Celsius  Fahrenheit\n",
              "0      -50       -58.0\n",
              "1      -40       -40.0\n",
              "2      -30       -22.0\n",
              "3      -20        -4.0\n",
              "4      -10        14.0"
            ]
          },
          "metadata": {
            "tags": []
          },
          "execution_count": 5
        }
      ]
    },
    {
      "cell_type": "code",
      "metadata": {
        "colab": {
          "base_uri": "https://localhost:8080/"
        },
        "id": "Vic0AJwsef7F",
        "outputId": "45be5942-f533-4f95-aa23-024124e8c83c"
      },
      "source": [
        "temperatura_df.info()"
      ],
      "execution_count": 6,
      "outputs": [
        {
          "output_type": "stream",
          "text": [
            "<class 'pandas.core.frame.DataFrame'>\n",
            "RangeIndex: 30 entries, 0 to 29\n",
            "Data columns (total 2 columns):\n",
            " #   Column      Non-Null Count  Dtype  \n",
            "---  ------      --------------  -----  \n",
            " 0   Celsius     30 non-null     int64  \n",
            " 1   Fahrenheit  30 non-null     float64\n",
            "dtypes: float64(1), int64(1)\n",
            "memory usage: 608.0 bytes\n"
          ],
          "name": "stdout"
        }
      ]
    },
    {
      "cell_type": "code",
      "metadata": {
        "id": "C4pZWyyVE8kU"
      },
      "source": [
        "X_train =  temperatura_df['Celsius']\n",
        "Y_train =  temperatura_df['Fahrenheit']"
      ],
      "execution_count": 7,
      "outputs": []
    },
    {
      "cell_type": "code",
      "metadata": {
        "id": "44qndiTEFhRc"
      },
      "source": [
        "model = tf.keras.Sequential()\n",
        "model.add(tf.keras.layers.Dense(units=1,input_shape=[1]))"
      ],
      "execution_count": 9,
      "outputs": []
    },
    {
      "cell_type": "code",
      "metadata": {
        "colab": {
          "base_uri": "https://localhost:8080/"
        },
        "id": "yuSeyKTwKXTZ",
        "outputId": "2a88dc17-2159-4666-f9f4-3497f1029243"
      },
      "source": [
        "model.summary()"
      ],
      "execution_count": 10,
      "outputs": [
        {
          "output_type": "stream",
          "text": [
            "Model: \"sequential\"\n",
            "_________________________________________________________________\n",
            "Layer (type)                 Output Shape              Param #   \n",
            "=================================================================\n",
            "dense (Dense)                (None, 1)                 2         \n",
            "=================================================================\n",
            "Total params: 2\n",
            "Trainable params: 2\n",
            "Non-trainable params: 0\n",
            "_________________________________________________________________\n"
          ],
          "name": "stdout"
        }
      ]
    },
    {
      "cell_type": "code",
      "metadata": {
        "id": "5Q95rX8QKhj9"
      },
      "source": [
        "model.compile(optimizer=tf.keras.optimizers.Adam(0.1), loss='mean_squared_error')"
      ],
      "execution_count": 22,
      "outputs": []
    },
    {
      "cell_type": "code",
      "metadata": {
        "colab": {
          "base_uri": "https://localhost:8080/"
        },
        "id": "E5AlXbQEKyT0",
        "outputId": "24fca9a9-24bc-41f4-9893-a1016b488dbe"
      },
      "source": [
        "epocas_hist = model.fit(X_train,Y_train, epochs=200)"
      ],
      "execution_count": 26,
      "outputs": [
        {
          "output_type": "stream",
          "text": [
            "Epoch 1/200\n",
            "1/1 [==============================] - 0s 5ms/step - loss: 9.6552e-05\n",
            "Epoch 2/200\n",
            "1/1 [==============================] - 0s 4ms/step - loss: 4.6609e-06\n",
            "Epoch 3/200\n",
            "1/1 [==============================] - 0s 5ms/step - loss: 3.4527e-05\n",
            "Epoch 4/200\n",
            "1/1 [==============================] - 0s 18ms/step - loss: 1.0281e-04\n",
            "Epoch 5/200\n",
            "1/1 [==============================] - 0s 19ms/step - loss: 7.7169e-05\n",
            "Epoch 6/200\n",
            "1/1 [==============================] - 0s 4ms/step - loss: 9.1219e-06\n",
            "Epoch 7/200\n",
            "1/1 [==============================] - 0s 3ms/step - loss: 1.4148e-05\n",
            "Epoch 8/200\n",
            "1/1 [==============================] - 0s 6ms/step - loss: 6.2926e-05\n",
            "Epoch 9/200\n",
            "1/1 [==============================] - 0s 8ms/step - loss: 5.6962e-05\n",
            "Epoch 10/200\n",
            "1/1 [==============================] - 0s 6ms/step - loss: 1.0374e-05\n",
            "Epoch 11/200\n",
            "1/1 [==============================] - 0s 4ms/step - loss: 5.7452e-06\n",
            "Epoch 12/200\n",
            "1/1 [==============================] - 0s 5ms/step - loss: 3.8463e-05\n",
            "Epoch 13/200\n",
            "1/1 [==============================] - 0s 7ms/step - loss: 4.0056e-05\n",
            "Epoch 14/200\n",
            "1/1 [==============================] - 0s 6ms/step - loss: 9.2637e-06\n",
            "Epoch 15/200\n",
            "1/1 [==============================] - 0s 5ms/step - loss: 2.4578e-06\n",
            "Epoch 16/200\n",
            "1/1 [==============================] - 0s 4ms/step - loss: 2.3884e-05\n",
            "Epoch 17/200\n",
            "1/1 [==============================] - 0s 4ms/step - loss: 2.7331e-05\n",
            "Epoch 18/200\n",
            "1/1 [==============================] - 0s 5ms/step - loss: 7.1677e-06\n",
            "Epoch 19/200\n",
            "1/1 [==============================] - 0s 4ms/step - loss: 1.2061e-06\n",
            "Epoch 20/200\n",
            "1/1 [==============================] - 0s 5ms/step - loss: 1.5278e-05\n",
            "Epoch 21/200\n",
            "1/1 [==============================] - 0s 5ms/step - loss: 1.8334e-05\n",
            "Epoch 22/200\n",
            "1/1 [==============================] - 0s 5ms/step - loss: 4.9877e-06\n",
            "Epoch 23/200\n",
            "1/1 [==============================] - 0s 5ms/step - loss: 7.4947e-07\n",
            "Epoch 24/200\n",
            "1/1 [==============================] - 0s 4ms/step - loss: 1.0125e-05\n",
            "Epoch 25/200\n",
            "1/1 [==============================] - 0s 4ms/step - loss: 1.2128e-05\n",
            "Epoch 26/200\n",
            "1/1 [==============================] - 0s 5ms/step - loss: 3.1615e-06\n",
            "Epoch 27/200\n",
            "1/1 [==============================] - 0s 3ms/step - loss: 5.9750e-07\n",
            "Epoch 28/200\n",
            "1/1 [==============================] - 0s 5ms/step - loss: 6.9522e-06\n",
            "Epoch 29/200\n",
            "1/1 [==============================] - 0s 4ms/step - loss: 7.8943e-06\n",
            "Epoch 30/200\n",
            "1/1 [==============================] - 0s 6ms/step - loss: 1.8092e-06\n",
            "Epoch 31/200\n",
            "1/1 [==============================] - 0s 8ms/step - loss: 5.7100e-07\n",
            "Epoch 32/200\n",
            "1/1 [==============================] - 0s 5ms/step - loss: 4.9059e-06\n",
            "Epoch 33/200\n",
            "1/1 [==============================] - 0s 4ms/step - loss: 5.0208e-06\n",
            "Epoch 34/200\n",
            "1/1 [==============================] - 0s 5ms/step - loss: 9.1326e-07\n",
            "Epoch 35/200\n",
            "1/1 [==============================] - 0s 5ms/step - loss: 5.9470e-07\n",
            "Epoch 36/200\n",
            "1/1 [==============================] - 0s 5ms/step - loss: 3.5184e-06\n",
            "Epoch 37/200\n",
            "1/1 [==============================] - 0s 4ms/step - loss: 3.1073e-06\n",
            "Epoch 38/200\n",
            "1/1 [==============================] - 0s 6ms/step - loss: 3.7297e-07\n",
            "Epoch 39/200\n",
            "1/1 [==============================] - 0s 5ms/step - loss: 6.3567e-07\n",
            "Epoch 40/200\n",
            "1/1 [==============================] - 0s 10ms/step - loss: 2.5192e-06\n",
            "Epoch 41/200\n",
            "1/1 [==============================] - 0s 6ms/step - loss: 1.8146e-06\n",
            "Epoch 42/200\n",
            "1/1 [==============================] - 0s 5ms/step - loss: 9.9842e-08\n",
            "Epoch 43/200\n",
            "1/1 [==============================] - 0s 4ms/step - loss: 6.5169e-07\n",
            "Epoch 44/200\n",
            "1/1 [==============================] - 0s 5ms/step - loss: 1.7714e-06\n",
            "Epoch 45/200\n",
            "1/1 [==============================] - 0s 4ms/step - loss: 9.8317e-07\n",
            "Epoch 46/200\n",
            "1/1 [==============================] - 0s 6ms/step - loss: 5.5703e-09\n",
            "Epoch 47/200\n",
            "1/1 [==============================] - 0s 5ms/step - loss: 6.3759e-07\n",
            "Epoch 48/200\n",
            "1/1 [==============================] - 0s 5ms/step - loss: 1.2010e-06\n",
            "Epoch 49/200\n",
            "1/1 [==============================] - 0s 5ms/step - loss: 4.6605e-07\n",
            "Epoch 50/200\n",
            "1/1 [==============================] - 0s 4ms/step - loss: 1.3125e-08\n",
            "Epoch 51/200\n",
            "1/1 [==============================] - 0s 6ms/step - loss: 5.8309e-07\n",
            "Epoch 52/200\n",
            "1/1 [==============================] - 0s 5ms/step - loss: 7.5864e-07\n",
            "Epoch 53/200\n",
            "1/1 [==============================] - 0s 5ms/step - loss: 1.7799e-07\n",
            "Epoch 54/200\n",
            "1/1 [==============================] - 0s 4ms/step - loss: 6.3406e-08\n",
            "Epoch 55/200\n",
            "1/1 [==============================] - 0s 4ms/step - loss: 4.9142e-07\n",
            "Epoch 56/200\n",
            "1/1 [==============================] - 0s 9ms/step - loss: 4.3664e-07\n",
            "Epoch 57/200\n",
            "1/1 [==============================] - 0s 5ms/step - loss: 4.1229e-08\n",
            "Epoch 58/200\n",
            "1/1 [==============================] - 0s 4ms/step - loss: 1.1746e-07\n",
            "Epoch 59/200\n",
            "1/1 [==============================] - 0s 5ms/step - loss: 3.7485e-07\n",
            "Epoch 60/200\n",
            "1/1 [==============================] - 0s 9ms/step - loss: 2.1387e-07\n",
            "Epoch 61/200\n",
            "1/1 [==============================] - 0s 6ms/step - loss: 8.3082e-10\n",
            "Epoch 62/200\n",
            "1/1 [==============================] - 0s 5ms/step - loss: 1.4736e-07\n",
            "Epoch 63/200\n",
            "1/1 [==============================] - 0s 5ms/step - loss: 2.5580e-07\n",
            "Epoch 64/200\n",
            "1/1 [==============================] - 0s 8ms/step - loss: 8.1306e-08\n",
            "Epoch 65/200\n",
            "1/1 [==============================] - 0s 5ms/step - loss: 1.0318e-08\n",
            "Epoch 66/200\n",
            "1/1 [==============================] - 0s 5ms/step - loss: 1.4706e-07\n",
            "Epoch 67/200\n",
            "1/1 [==============================] - 0s 7ms/step - loss: 1.4782e-07\n",
            "Epoch 68/200\n",
            "1/1 [==============================] - 0s 5ms/step - loss: 1.7399e-08\n",
            "Epoch 69/200\n",
            "1/1 [==============================] - 0s 6ms/step - loss: 3.3532e-08\n",
            "Epoch 70/200\n",
            "1/1 [==============================] - 0s 5ms/step - loss: 1.2068e-07\n",
            "Epoch 71/200\n",
            "1/1 [==============================] - 0s 8ms/step - loss: 7.0629e-08\n",
            "Epoch 72/200\n",
            "1/1 [==============================] - 0s 6ms/step - loss: 1.0201e-10\n",
            "Epoch 73/200\n",
            "1/1 [==============================] - 0s 4ms/step - loss: 5.1789e-08\n",
            "Epoch 74/200\n",
            "1/1 [==============================] - 0s 6ms/step - loss: 8.2483e-08\n",
            "Epoch 75/200\n",
            "1/1 [==============================] - 0s 5ms/step - loss: 2.1691e-08\n",
            "Epoch 76/200\n",
            "1/1 [==============================] - 0s 5ms/step - loss: 6.2749e-09\n",
            "Epoch 77/200\n",
            "1/1 [==============================] - 0s 5ms/step - loss: 5.2922e-08\n",
            "Epoch 78/200\n",
            "1/1 [==============================] - 0s 6ms/step - loss: 4.3198e-08\n",
            "Epoch 79/200\n",
            "1/1 [==============================] - 0s 5ms/step - loss: 2.1968e-09\n",
            "Epoch 80/200\n",
            "1/1 [==============================] - 0s 6ms/step - loss: 1.7399e-08\n",
            "Epoch 81/200\n",
            "1/1 [==============================] - 0s 6ms/step - loss: 4.0698e-08\n",
            "Epoch 82/200\n",
            "1/1 [==============================] - 0s 6ms/step - loss: 1.5600e-08\n",
            "Epoch 83/200\n",
            "1/1 [==============================] - 0s 4ms/step - loss: 1.0165e-09\n",
            "Epoch 84/200\n",
            "1/1 [==============================] - 0s 5ms/step - loss: 2.2165e-08\n",
            "Epoch 85/200\n",
            "1/1 [==============================] - 0s 5ms/step - loss: 2.3084e-08\n",
            "Epoch 86/200\n",
            "1/1 [==============================] - 0s 5ms/step - loss: 2.1951e-09\n",
            "Epoch 87/200\n",
            "1/1 [==============================] - 0s 4ms/step - loss: 6.2172e-09\n",
            "Epoch 88/200\n",
            "1/1 [==============================] - 0s 9ms/step - loss: 1.8658e-08\n",
            "Epoch 89/200\n",
            "1/1 [==============================] - 0s 5ms/step - loss: 9.0899e-09\n",
            "Epoch 90/200\n",
            "1/1 [==============================] - 0s 4ms/step - loss: 1.3900e-10\n",
            "Epoch 91/200\n",
            "1/1 [==============================] - 0s 4ms/step - loss: 1.0157e-08\n",
            "Epoch 92/200\n",
            "1/1 [==============================] - 0s 4ms/step - loss: 1.1862e-08\n",
            "Epoch 93/200\n",
            "1/1 [==============================] - 0s 7ms/step - loss: 1.4995e-09\n",
            "Epoch 94/200\n",
            "1/1 [==============================] - 0s 5ms/step - loss: 2.6915e-09\n",
            "Epoch 95/200\n",
            "1/1 [==============================] - 0s 4ms/step - loss: 9.8394e-09\n",
            "Epoch 96/200\n",
            "1/1 [==============================] - 0s 4ms/step - loss: 4.6125e-09\n",
            "Epoch 97/200\n",
            "1/1 [==============================] - 0s 4ms/step - loss: 5.0356e-11\n",
            "Epoch 98/200\n",
            "1/1 [==============================] - 0s 7ms/step - loss: 5.1365e-09\n",
            "Epoch 99/200\n",
            "1/1 [==============================] - 0s 6ms/step - loss: 5.9292e-09\n",
            "Epoch 100/200\n",
            "1/1 [==============================] - 0s 8ms/step - loss: 6.7621e-10\n",
            "Epoch 101/200\n",
            "1/1 [==============================] - 0s 6ms/step - loss: 1.5000e-09\n",
            "Epoch 102/200\n",
            "1/1 [==============================] - 0s 6ms/step - loss: 4.6125e-09\n",
            "Epoch 103/200\n",
            "1/1 [==============================] - 0s 5ms/step - loss: 2.1985e-09\n",
            "Epoch 104/200\n",
            "1/1 [==============================] - 0s 6ms/step - loss: 5.0356e-11\n",
            "Epoch 105/200\n",
            "1/1 [==============================] - 0s 6ms/step - loss: 2.6381e-09\n",
            "Epoch 106/200\n",
            "1/1 [==============================] - 0s 6ms/step - loss: 3.1150e-09\n",
            "Epoch 107/200\n",
            "1/1 [==============================] - 0s 7ms/step - loss: 1.7259e-10\n",
            "Epoch 108/200\n",
            "1/1 [==============================] - 0s 6ms/step - loss: 1.0191e-09\n",
            "Epoch 109/200\n",
            "1/1 [==============================] - 0s 5ms/step - loss: 2.2205e-09\n",
            "Epoch 110/200\n",
            "1/1 [==============================] - 0s 5ms/step - loss: 8.3082e-10\n",
            "Epoch 111/200\n",
            "1/1 [==============================] - 0s 6ms/step - loss: 1.3500e-10\n",
            "Epoch 112/200\n",
            "1/1 [==============================] - 0s 5ms/step - loss: 1.5092e-09\n",
            "Epoch 113/200\n",
            "1/1 [==============================] - 0s 8ms/step - loss: 1.1658e-09\n",
            "Epoch 114/200\n",
            "1/1 [==============================] - 0s 4ms/step - loss: 1.0217e-11\n",
            "Epoch 115/200\n",
            "1/1 [==============================] - 0s 4ms/step - loss: 6.5268e-10\n",
            "Epoch 116/200\n",
            "1/1 [==============================] - 0s 4ms/step - loss: 1.1776e-09\n",
            "Epoch 117/200\n",
            "1/1 [==============================] - 0s 6ms/step - loss: 2.0388e-10\n",
            "Epoch 118/200\n",
            "1/1 [==============================] - 0s 4ms/step - loss: 1.7259e-10\n",
            "Epoch 119/200\n",
            "1/1 [==============================] - 0s 7ms/step - loss: 1.0165e-09\n",
            "Epoch 120/200\n",
            "1/1 [==============================] - 0s 9ms/step - loss: 4.5563e-10\n",
            "Epoch 121/200\n",
            "1/1 [==============================] - 0s 7ms/step - loss: 2.1494e-11\n",
            "Epoch 122/200\n",
            "1/1 [==============================] - 0s 10ms/step - loss: 5.1771e-10\n",
            "Epoch 123/200\n",
            "1/1 [==============================] - 0s 7ms/step - loss: 5.1771e-10\n",
            "Epoch 124/200\n",
            "1/1 [==============================] - 0s 5ms/step - loss: 5.0841e-11\n",
            "Epoch 125/200\n",
            "1/1 [==============================] - 0s 6ms/step - loss: 1.7259e-10\n",
            "Epoch 126/200\n",
            "1/1 [==============================] - 0s 6ms/step - loss: 5.1711e-10\n",
            "Epoch 127/200\n",
            "1/1 [==============================] - 0s 8ms/step - loss: 1.3900e-10\n",
            "Epoch 128/200\n",
            "1/1 [==============================] - 0s 6ms/step - loss: 5.0841e-11\n",
            "Epoch 129/200\n",
            "1/1 [==============================] - 0s 5ms/step - loss: 2.9386e-10\n",
            "Epoch 130/200\n",
            "1/1 [==============================] - 0s 6ms/step - loss: 2.0388e-10\n",
            "Epoch 131/200\n",
            "1/1 [==============================] - 0s 9ms/step - loss: 6.3665e-13\n",
            "Epoch 132/200\n",
            "1/1 [==============================] - 0s 5ms/step - loss: 1.3900e-10\n",
            "Epoch 133/200\n",
            "1/1 [==============================] - 0s 5ms/step - loss: 1.7259e-10\n",
            "Epoch 134/200\n",
            "1/1 [==============================] - 0s 5ms/step - loss: 5.0356e-11\n",
            "Epoch 135/200\n",
            "1/1 [==============================] - 0s 8ms/step - loss: 5.0841e-11\n",
            "Epoch 136/200\n",
            "1/1 [==============================] - 0s 5ms/step - loss: 1.6677e-10\n",
            "Epoch 137/200\n",
            "1/1 [==============================] - 0s 4ms/step - loss: 5.0841e-11\n",
            "Epoch 138/200\n",
            "1/1 [==============================] - 0s 6ms/step - loss: 1.0217e-11\n",
            "Epoch 139/200\n",
            "1/1 [==============================] - 0s 7ms/step - loss: 1.3900e-10\n",
            "Epoch 140/200\n",
            "1/1 [==============================] - 0s 6ms/step - loss: 1.0201e-10\n",
            "Epoch 141/200\n",
            "1/1 [==============================] - 0s 7ms/step - loss: 6.3665e-13\n",
            "Epoch 142/200\n",
            "1/1 [==============================] - 0s 16ms/step - loss: 1.6677e-10\n",
            "Epoch 143/200\n",
            "1/1 [==============================] - 0s 6ms/step - loss: 1.0262e-10\n",
            "Epoch 144/200\n",
            "1/1 [==============================] - 0s 5ms/step - loss: 6.3665e-13\n",
            "Epoch 145/200\n",
            "1/1 [==============================] - 0s 9ms/step - loss: 1.0201e-10\n",
            "Epoch 146/200\n",
            "1/1 [==============================] - 0s 8ms/step - loss: 1.0201e-10\n",
            "Epoch 147/200\n",
            "1/1 [==============================] - 0s 10ms/step - loss: 6.3665e-13\n",
            "Epoch 148/200\n",
            "1/1 [==============================] - 0s 18ms/step - loss: 5.0841e-11\n",
            "Epoch 149/200\n",
            "1/1 [==============================] - 0s 11ms/step - loss: 5.0841e-11\n",
            "Epoch 150/200\n",
            "1/1 [==============================] - 0s 19ms/step - loss: 6.3665e-13\n",
            "Epoch 151/200\n",
            "1/1 [==============================] - 0s 13ms/step - loss: 1.0217e-11\n",
            "Epoch 152/200\n",
            "1/1 [==============================] - 0s 14ms/step - loss: 5.0356e-11\n",
            "Epoch 153/200\n",
            "1/1 [==============================] - 0s 5ms/step - loss: 6.3665e-13\n",
            "Epoch 154/200\n",
            "1/1 [==============================] - 0s 4ms/step - loss: 6.3665e-13\n",
            "Epoch 155/200\n",
            "1/1 [==============================] - 0s 4ms/step - loss: 2.1494e-11\n",
            "Epoch 156/200\n",
            "1/1 [==============================] - 0s 4ms/step - loss: 2.1494e-11\n",
            "Epoch 157/200\n",
            "1/1 [==============================] - 0s 4ms/step - loss: 6.3665e-13\n",
            "Epoch 158/200\n",
            "1/1 [==============================] - 0s 4ms/step - loss: 1.0217e-11\n",
            "Epoch 159/200\n",
            "1/1 [==============================] - 0s 4ms/step - loss: 5.0356e-11\n",
            "Epoch 160/200\n",
            "1/1 [==============================] - 0s 4ms/step - loss: 6.3665e-13\n",
            "Epoch 161/200\n",
            "1/1 [==============================] - 0s 4ms/step - loss: 2.1494e-11\n",
            "Epoch 162/200\n",
            "1/1 [==============================] - 0s 10ms/step - loss: 2.1494e-11\n",
            "Epoch 163/200\n",
            "1/1 [==============================] - 0s 5ms/step - loss: 6.3665e-13\n",
            "Epoch 164/200\n",
            "1/1 [==============================] - 0s 4ms/step - loss: 6.3665e-13\n",
            "Epoch 165/200\n",
            "1/1 [==============================] - 0s 8ms/step - loss: 1.0217e-11\n",
            "Epoch 166/200\n",
            "1/1 [==============================] - 0s 4ms/step - loss: 1.0217e-11\n",
            "Epoch 167/200\n",
            "1/1 [==============================] - 0s 4ms/step - loss: 6.3665e-13\n",
            "Epoch 168/200\n",
            "1/1 [==============================] - 0s 6ms/step - loss: 6.3665e-13\n",
            "Epoch 169/200\n",
            "1/1 [==============================] - 0s 4ms/step - loss: 6.3665e-13\n",
            "Epoch 170/200\n",
            "1/1 [==============================] - 0s 6ms/step - loss: 6.3665e-13\n",
            "Epoch 171/200\n",
            "1/1 [==============================] - 0s 5ms/step - loss: 6.3665e-13\n",
            "Epoch 172/200\n",
            "1/1 [==============================] - 0s 4ms/step - loss: 6.3665e-13\n",
            "Epoch 173/200\n",
            "1/1 [==============================] - 0s 9ms/step - loss: 6.3665e-13\n",
            "Epoch 174/200\n",
            "1/1 [==============================] - 0s 12ms/step - loss: 6.3665e-13\n",
            "Epoch 175/200\n",
            "1/1 [==============================] - 0s 5ms/step - loss: 6.3665e-13\n",
            "Epoch 176/200\n",
            "1/1 [==============================] - 0s 8ms/step - loss: 6.3665e-13\n",
            "Epoch 177/200\n",
            "1/1 [==============================] - 0s 11ms/step - loss: 6.3665e-13\n",
            "Epoch 178/200\n",
            "1/1 [==============================] - 0s 6ms/step - loss: 6.3665e-13\n",
            "Epoch 179/200\n",
            "1/1 [==============================] - 0s 8ms/step - loss: 6.3665e-13\n",
            "Epoch 180/200\n",
            "1/1 [==============================] - 0s 6ms/step - loss: 6.3665e-13\n",
            "Epoch 181/200\n",
            "1/1 [==============================] - 0s 9ms/step - loss: 6.3665e-13\n",
            "Epoch 182/200\n",
            "1/1 [==============================] - 0s 5ms/step - loss: 6.3665e-13\n",
            "Epoch 183/200\n",
            "1/1 [==============================] - 0s 6ms/step - loss: 6.3665e-13\n",
            "Epoch 184/200\n",
            "1/1 [==============================] - 0s 6ms/step - loss: 6.3665e-13\n",
            "Epoch 185/200\n",
            "1/1 [==============================] - 0s 6ms/step - loss: 6.3665e-13\n",
            "Epoch 186/200\n",
            "1/1 [==============================] - 0s 4ms/step - loss: 6.3665e-13\n",
            "Epoch 187/200\n",
            "1/1 [==============================] - 0s 6ms/step - loss: 6.3665e-13\n",
            "Epoch 188/200\n",
            "1/1 [==============================] - 0s 9ms/step - loss: 6.3665e-13\n",
            "Epoch 189/200\n",
            "1/1 [==============================] - 0s 6ms/step - loss: 6.3665e-13\n",
            "Epoch 190/200\n",
            "1/1 [==============================] - 0s 8ms/step - loss: 6.3665e-13\n",
            "Epoch 191/200\n",
            "1/1 [==============================] - 0s 7ms/step - loss: 6.3665e-13\n",
            "Epoch 192/200\n",
            "1/1 [==============================] - 0s 6ms/step - loss: 6.3665e-13\n",
            "Epoch 193/200\n",
            "1/1 [==============================] - 0s 7ms/step - loss: 6.3665e-13\n",
            "Epoch 194/200\n",
            "1/1 [==============================] - 0s 5ms/step - loss: 6.3665e-13\n",
            "Epoch 195/200\n",
            "1/1 [==============================] - 0s 8ms/step - loss: 6.3665e-13\n",
            "Epoch 196/200\n",
            "1/1 [==============================] - 0s 8ms/step - loss: 6.3665e-13\n",
            "Epoch 197/200\n",
            "1/1 [==============================] - 0s 6ms/step - loss: 6.3665e-13\n",
            "Epoch 198/200\n",
            "1/1 [==============================] - 0s 8ms/step - loss: 6.3665e-13\n",
            "Epoch 199/200\n",
            "1/1 [==============================] - 0s 9ms/step - loss: 6.3665e-13\n",
            "Epoch 200/200\n",
            "1/1 [==============================] - 0s 13ms/step - loss: 6.3665e-13\n"
          ],
          "name": "stdout"
        }
      ]
    },
    {
      "cell_type": "code",
      "metadata": {
        "colab": {
          "base_uri": "https://localhost:8080/",
          "height": 295
        },
        "id": "vxQWobznLDNF",
        "outputId": "59a4bc4c-2b2a-47bc-8a82-2e74dc8a0ca3"
      },
      "source": [
        "plt.plot(epocas_hist.history['loss'])\n",
        "plt.title('Erro por execução')\n",
        "plt.xlabel('Epoca')\n",
        "plt.ylabel('Valor do erro');"
      ],
      "execution_count": 27,
      "outputs": [
        {
          "output_type": "display_data",
          "data": {
            "image/png": "[encoded data removed]",
            "text/plain": [
              "<Figure size 432x288 with 1 Axes>"
            ]
          },
          "metadata": {
            "tags": [],
            "needs_background": "light"
          }
        }
      ]
    },
    {
      "cell_type": "code",
      "metadata": {
        "colab": {
          "base_uri": "https://localhost:8080/"
        },
        "id": "CRNM7fTVMFVI",
        "outputId": "4e0f4265-b7a9-46fe-afee-17b1e505bc95"
      },
      "source": [
        "model.get_weights()"
      ],
      "execution_count": 28,
      "outputs": [
        {
          "output_type": "execute_result",
          "data": {
            "text/plain": [
              "[array([[1.8]], dtype=float32), array([32.], dtype=float32)]"
            ]
          },
          "metadata": {
            "tags": []
          },
          "execution_count": 28
        }
      ]
    },
    {
      "cell_type": "code",
      "metadata": {
        "colab": {
          "base_uri": "https://localhost:8080/"
        },
        "id": "Yi7GoRihM6y6",
        "outputId": "9dc1fa7e-2912-4929-f3a5-a55893a7b55a"
      },
      "source": [
        "temperatura_teste_C = 0\n",
        "temperatura_teste_F = model.predict([temperatura_teste_C])\n",
        "temperatura_teste_F"
      ],
      "execution_count": 29,
      "outputs": [
        {
          "output_type": "execute_result",
          "data": {
            "text/plain": [
              "array([[32.]], dtype=float32)"
            ]
          },
          "metadata": {
            "tags": []
          },
          "execution_count": 29
        }
      ]
    },
    {
      "cell_type": "code",
      "metadata": {
        "colab": {
          "base_uri": "https://localhost:8080/"
        },
        "id": "p7oonh--NpD3",
        "outputId": "fe985b76-4de5-4c4d-8d12-1b9da78f631e"
      },
      "source": [
        "temperatura_teste_C = 1369\n",
        "temperatura_teste_F = model.predict([temperatura_teste_C])\n",
        "temperatura_teste_F"
      ],
      "execution_count": 30,
      "outputs": [
        {
          "output_type": "execute_result",
          "data": {
            "text/plain": [
              "array([[2496.2]], dtype=float32)"
            ]
          },
          "metadata": {
            "tags": []
          },
          "execution_count": 30
        }
      ]
    }
  ]
}